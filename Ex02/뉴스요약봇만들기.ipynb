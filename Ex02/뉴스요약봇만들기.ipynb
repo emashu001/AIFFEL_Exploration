{
 "cells": [
  {
   "cell_type": "markdown",
   "id": "4da08a39",
   "metadata": {},
   "source": [
    "# 프로젝트: 뉴스기사 요약해보기\n",
    "\n",
    "\n",
    "새로운 데이터셋에 대해서 추상적 요약과 추출적 요약을 모두 해보는 시간을 가져봐요.\n",
    "\n",
    "먼저 주요 라이브러리 버전을 확인해 보죠."
   ]
  },
  {
   "cell_type": "code",
   "execution_count": 1,
   "id": "538264ff",
   "metadata": {},
   "outputs": [
    {
     "name": "stdout",
     "output_type": "stream",
     "text": [
      "3.6.5\n",
      "2.6.0\n",
      "1.3.3\n",
      "1.2.0\n"
     ]
    }
   ],
   "source": [
    "from importlib.metadata import version\n",
    "import nltk\n",
    "import tensorflow\n",
    "import summa\n",
    "import pandas\n",
    "\n",
    "print(nltk.__version__)\n",
    "print(tensorflow.__version__)\n",
    "print(pandas.__version__)\n",
    "print(version('summa'))"
   ]
  },
  {
   "cell_type": "code",
   "execution_count": 2,
   "id": "57d53616",
   "metadata": {},
   "outputs": [
    {
     "name": "stderr",
     "output_type": "stream",
     "text": [
      "[nltk_data] Downloading package stopwords to /aiffel/nltk_data...\n",
      "[nltk_data]   Package stopwords is already up-to-date!\n"
     ]
    },
    {
     "name": "stdout",
     "output_type": "stream",
     "text": [
      "=3\n"
     ]
    }
   ],
   "source": [
    "import nltk\n",
    "nltk.download('stopwords')\n",
    "\n",
    "import numpy as np\n",
    "import pandas as pd\n",
    "import os\n",
    "import re\n",
    "import matplotlib.pyplot as plt\n",
    "\n",
    "from nltk.corpus import stopwords\n",
    "from bs4 import BeautifulSoup \n",
    "from tensorflow.keras.preprocessing.text import Tokenizer \n",
    "from tensorflow.keras.preprocessing.sequence import pad_sequences\n",
    "import urllib.request\n",
    "import warnings\n",
    "warnings.filterwarnings(\"ignore\", category=UserWarning, module='bs4')\n",
    "\n",
    "print('=3')"
   ]
  },
  {
   "cell_type": "markdown",
   "id": "f1da871a",
   "metadata": {},
   "source": [
    "## Step 1. 데이터 수집하기\n",
    "\n",
    "데이터는 아래 링크에 있는 뉴스 기사 데이터(news_summary_more.csv)를 사용하세요.\n",
    "\n",
    "- sunnysai12345/News_Summary https://github.com/sunnysai12345/News_Summary\n",
    "\n",
    "아래의 코드로 데이터를 다운로드할 수 있어요."
   ]
  },
  {
   "cell_type": "code",
   "execution_count": 3,
   "id": "9e79b3e2",
   "metadata": {},
   "outputs": [],
   "source": [
    "import urllib.request\n",
    "import pandas as pd\n",
    "\n",
    "urllib.request.urlretrieve(\"https://raw.githubusercontent.com/sunnysai12345/News_Summary/master/news_summary_more.csv\", filename=\"news_summary_more.csv\")\n",
    "data = pd.read_csv('news_summary_more.csv', encoding='iso-8859-1')"
   ]
  },
  {
   "cell_type": "code",
   "execution_count": 4,
   "id": "85e139bd",
   "metadata": {},
   "outputs": [
    {
     "data": {
      "text/html": [
       "<div>\n",
       "<style scoped>\n",
       "    .dataframe tbody tr th:only-of-type {\n",
       "        vertical-align: middle;\n",
       "    }\n",
       "\n",
       "    .dataframe tbody tr th {\n",
       "        vertical-align: top;\n",
       "    }\n",
       "\n",
       "    .dataframe thead th {\n",
       "        text-align: right;\n",
       "    }\n",
       "</style>\n",
       "<table border=\"1\" class=\"dataframe\">\n",
       "  <thead>\n",
       "    <tr style=\"text-align: right;\">\n",
       "      <th></th>\n",
       "      <th>headlines</th>\n",
       "      <th>text</th>\n",
       "    </tr>\n",
       "  </thead>\n",
       "  <tbody>\n",
       "    <tr>\n",
       "      <th>62367</th>\n",
       "      <td>Nearly 40% of all PAN cards linked with Aadhaar</td>\n",
       "      <td>Over 13.28 crore or about 39.5% Permanent Acco...</td>\n",
       "    </tr>\n",
       "    <tr>\n",
       "      <th>14141</th>\n",
       "      <td>2-storey apartment becomes UK's costliest home...</td>\n",
       "      <td>A two-storey apartment in London's One Hyde Pa...</td>\n",
       "    </tr>\n",
       "    <tr>\n",
       "      <th>46046</th>\n",
       "      <td>Video shows Amit Shah mimicking Rahul Gandhi a...</td>\n",
       "      <td>A video which shows BJP President Amit Shah mi...</td>\n",
       "    </tr>\n",
       "    <tr>\n",
       "      <th>71786</th>\n",
       "      <td>UP Man shoots 8-year-old after he refuses to g...</td>\n",
       "      <td>A 25-year-old man from Uttar Pradesh allegedly...</td>\n",
       "    </tr>\n",
       "    <tr>\n",
       "      <th>74790</th>\n",
       "      <td>3 Indians named in MIT Tech Review Innovators ...</td>\n",
       "      <td>Three Indians have made it to the MIT Technolo...</td>\n",
       "    </tr>\n",
       "    <tr>\n",
       "      <th>34073</th>\n",
       "      <td>Govt meets Ã¢ÂÂ¹10 lakh cr agri credit disbur...</td>\n",
       "      <td>The government has said that agriculture credi...</td>\n",
       "    </tr>\n",
       "    <tr>\n",
       "      <th>43973</th>\n",
       "      <td>96-year-old Nazi guard dies before starting pr...</td>\n",
       "      <td>Former Nazi SS guard Oskar GrÃÂ¶ning dubbed t...</td>\n",
       "    </tr>\n",
       "    <tr>\n",
       "      <th>47285</th>\n",
       "      <td>City Union Bank hit by Ã¢ÂÂ¹12 crore fraud</td>\n",
       "      <td>City Union Bank has said it had suffered three...</td>\n",
       "    </tr>\n",
       "    <tr>\n",
       "      <th>94904</th>\n",
       "      <td>Germany approves bill curbing hate crime on so...</td>\n",
       "      <td>Germany's Cabinet has approved a new bill on c...</td>\n",
       "    </tr>\n",
       "    <tr>\n",
       "      <th>14977</th>\n",
       "      <td>IÃ¢ÂÂm not pro-regulation: Apple CEO Tim Coo...</td>\n",
       "      <td>On being asked if data collecting companies sh...</td>\n",
       "    </tr>\n",
       "  </tbody>\n",
       "</table>\n",
       "</div>"
      ],
      "text/plain": [
       "                                               headlines  \\\n",
       "62367    Nearly 40% of all PAN cards linked with Aadhaar   \n",
       "14141  2-storey apartment becomes UK's costliest home...   \n",
       "46046  Video shows Amit Shah mimicking Rahul Gandhi a...   \n",
       "71786  UP Man shoots 8-year-old after he refuses to g...   \n",
       "74790  3 Indians named in MIT Tech Review Innovators ...   \n",
       "34073  Govt meets Ã¢ÂÂ¹10 lakh cr agri credit disbur...   \n",
       "43973  96-year-old Nazi guard dies before starting pr...   \n",
       "47285        City Union Bank hit by Ã¢ÂÂ¹12 crore fraud   \n",
       "94904  Germany approves bill curbing hate crime on so...   \n",
       "14977  IÃ¢ÂÂm not pro-regulation: Apple CEO Tim Coo...   \n",
       "\n",
       "                                                    text  \n",
       "62367  Over 13.28 crore or about 39.5% Permanent Acco...  \n",
       "14141  A two-storey apartment in London's One Hyde Pa...  \n",
       "46046  A video which shows BJP President Amit Shah mi...  \n",
       "71786  A 25-year-old man from Uttar Pradesh allegedly...  \n",
       "74790  Three Indians have made it to the MIT Technolo...  \n",
       "34073  The government has said that agriculture credi...  \n",
       "43973  Former Nazi SS guard Oskar GrÃÂ¶ning dubbed t...  \n",
       "47285  City Union Bank has said it had suffered three...  \n",
       "94904  Germany's Cabinet has approved a new bill on c...  \n",
       "14977  On being asked if data collecting companies sh...  "
      ]
     },
     "execution_count": 4,
     "metadata": {},
     "output_type": "execute_result"
    }
   ],
   "source": [
    "data.sample(10)"
   ]
  },
  {
   "cell_type": "markdown",
   "id": "8be849e9",
   "metadata": {},
   "source": [
    "이 데이터는 기사의 본문에 해당되는 text와 headlines 두 가지 열로 구성되어져 있습니다.\n",
    "\n",
    "추상적 요약을 하는 경우에는 text를 본문, headlines를 이미 요약된 데이터로 삼아서 모델을 학습할 수 있어요. 추출적 요약을 하는 경우에는 오직 text열만을 사용하세요."
   ]
  },
  {
   "cell_type": "markdown",
   "id": "700156e2",
   "metadata": {},
   "source": [
    "## Step 2. 데이터 전처리하기 (추상적 요약)\n",
    "\n",
    "실습에서 사용된 전처리를 참고하여 각자 필요하다고 생각하는 전처리를 추가 사용하여 텍스트를 정규화 또는 정제해 보세요. 만약, 불용어 제거를 선택한다면 상대적으로 길이가 짧은 요약 데이터에 대해서도 불용어를 제거하는 것이 좋을지 고민해 보세요."
   ]
  },
  {
   "cell_type": "code",
   "execution_count": 5,
   "id": "1666f4bd",
   "metadata": {},
   "outputs": [
    {
     "data": {
      "text/html": [
       "<div>\n",
       "<style scoped>\n",
       "    .dataframe tbody tr th:only-of-type {\n",
       "        vertical-align: middle;\n",
       "    }\n",
       "\n",
       "    .dataframe tbody tr th {\n",
       "        vertical-align: top;\n",
       "    }\n",
       "\n",
       "    .dataframe thead th {\n",
       "        text-align: right;\n",
       "    }\n",
       "</style>\n",
       "<table border=\"1\" class=\"dataframe\">\n",
       "  <thead>\n",
       "    <tr style=\"text-align: right;\">\n",
       "      <th></th>\n",
       "      <th>Summary</th>\n",
       "      <th>Text</th>\n",
       "    </tr>\n",
       "  </thead>\n",
       "  <tbody>\n",
       "    <tr>\n",
       "      <th>46188</th>\n",
       "      <td>Embarrassed as a banker: India's richest banke...</td>\n",
       "      <td>Reacting to the alleged fraud at PNB, India's ...</td>\n",
       "    </tr>\n",
       "  </tbody>\n",
       "</table>\n",
       "</div>"
      ],
      "text/plain": [
       "                                                 Summary  \\\n",
       "46188  Embarrassed as a banker: India's richest banke...   \n",
       "\n",
       "                                                    Text  \n",
       "46188  Reacting to the alleged fraud at PNB, India's ...  "
      ]
     },
     "execution_count": 5,
     "metadata": {},
     "output_type": "execute_result"
    }
   ],
   "source": [
    "data.columns = ['Summary','Text']\n",
    "data.sample(1)"
   ]
  },
  {
   "cell_type": "markdown",
   "id": "f7cfe335",
   "metadata": {},
   "source": [
    "### (1) 데이터 정리하기"
   ]
  },
  {
   "cell_type": "markdown",
   "id": "df45fd53",
   "metadata": {},
   "source": [
    "1) 중복 샘플과 NULL 값 샘플 제거"
   ]
  },
  {
   "cell_type": "code",
   "execution_count": 6,
   "id": "bcedf6ec",
   "metadata": {},
   "outputs": [
    {
     "name": "stdout",
     "output_type": "stream",
     "text": [
      "Text 열에서 중복을 배제한 유일한 샘플의 수 : 98360\n",
      "Summary 열에서 중복을 배제한 유일한 샘플의 수 : 98280\n"
     ]
    }
   ],
   "source": [
    "print('Text 열에서 중복을 배제한 유일한 샘플의 수 :', data['Text'].nunique())\n",
    "print('Summary 열에서 중복을 배제한 유일한 샘플의 수 :', data['Summary'].nunique())"
   ]
  },
  {
   "cell_type": "code",
   "execution_count": 7,
   "id": "6883ba23",
   "metadata": {},
   "outputs": [
    {
     "name": "stdout",
     "output_type": "stream",
     "text": [
      "전체 샘플수 : 98360\n"
     ]
    }
   ],
   "source": [
    "# 데이터프레임의 drop_duplicates()를 사용하면, 손쉽게 중복 샘플을 제거할 수 있다\n",
    "\n",
    "# inplace=True 를 설정하면 DataFrame 타입 값을 return 하지 않고 data 내부를 직접적으로 바꿉니다\n",
    "data.drop_duplicates(subset = ['Text'], inplace=True)\n",
    "print('전체 샘플수 :', (len(data)))"
   ]
  },
  {
   "cell_type": "code",
   "execution_count": 8,
   "id": "e6f5862f",
   "metadata": {},
   "outputs": [
    {
     "name": "stdout",
     "output_type": "stream",
     "text": [
      "Summary    0\n",
      "Text       0\n",
      "dtype: int64\n"
     ]
    }
   ],
   "source": [
    "# NULL 값이 있는지 체크\n",
    "print(data.isnull().sum()) # 0"
   ]
  },
  {
   "cell_type": "markdown",
   "id": "233e10e5",
   "metadata": {},
   "source": [
    "2) 텍스트 정규화와 불용어 제거"
   ]
  },
  {
   "cell_type": "code",
   "execution_count": 9,
   "id": "5595996e",
   "metadata": {},
   "outputs": [
    {
     "name": "stdout",
     "output_type": "stream",
     "text": [
      "done\n"
     ]
    }
   ],
   "source": [
    "contractions = {\"ain't\": \"is not\", \"aren't\": \"are not\",\"can't\": \"cannot\", \"'cause\": \"because\", \"could've\": \"could have\", \"couldn't\": \"could not\",\n",
    "                           \"didn't\": \"did not\",  \"doesn't\": \"does not\", \"don't\": \"do not\", \"hadn't\": \"had not\", \"hasn't\": \"has not\", \"haven't\": \"have not\",\n",
    "                           \"he'd\": \"he would\",\"he'll\": \"he will\", \"he's\": \"he is\", \"how'd\": \"how did\", \"how'd'y\": \"how do you\", \"how'll\": \"how will\", \"how's\": \"how is\",\n",
    "                           \"I'd\": \"I would\", \"I'd've\": \"I would have\", \"I'll\": \"I will\", \"I'll've\": \"I will have\",\"I'm\": \"I am\", \"I've\": \"I have\", \"i'd\": \"i would\",\n",
    "                           \"i'd've\": \"i would have\", \"i'll\": \"i will\",  \"i'll've\": \"i will have\",\"i'm\": \"i am\", \"i've\": \"i have\", \"isn't\": \"is not\", \"it'd\": \"it would\",\n",
    "                           \"it'd've\": \"it would have\", \"it'll\": \"it will\", \"it'll've\": \"it will have\",\"it's\": \"it is\", \"let's\": \"let us\", \"ma'am\": \"madam\",\n",
    "                           \"mayn't\": \"may not\", \"might've\": \"might have\",\"mightn't\": \"might not\",\"mightn't've\": \"might not have\", \"must've\": \"must have\",\n",
    "                           \"mustn't\": \"must not\", \"mustn't've\": \"must not have\", \"needn't\": \"need not\", \"needn't've\": \"need not have\",\"o'clock\": \"of the clock\",\n",
    "                           \"oughtn't\": \"ought not\", \"oughtn't've\": \"ought not have\", \"shan't\": \"shall not\", \"sha'n't\": \"shall not\", \"shan't've\": \"shall not have\",\n",
    "                           \"she'd\": \"she would\", \"she'd've\": \"she would have\", \"she'll\": \"she will\", \"she'll've\": \"she will have\", \"she's\": \"she is\",\n",
    "                           \"should've\": \"should have\", \"shouldn't\": \"should not\", \"shouldn't've\": \"should not have\", \"so've\": \"so have\",\"so's\": \"so as\",\n",
    "                           \"this's\": \"this is\",\"that'd\": \"that would\", \"that'd've\": \"that would have\", \"that's\": \"that is\", \"there'd\": \"there would\",\n",
    "                           \"there'd've\": \"there would have\", \"there's\": \"there is\", \"here's\": \"here is\",\"they'd\": \"they would\", \"they'd've\": \"they would have\",\n",
    "                           \"they'll\": \"they will\", \"they'll've\": \"they will have\", \"they're\": \"they are\", \"they've\": \"they have\", \"to've\": \"to have\",\n",
    "                           \"wasn't\": \"was not\", \"we'd\": \"we would\", \"we'd've\": \"we would have\", \"we'll\": \"we will\", \"we'll've\": \"we will have\", \"we're\": \"we are\",\n",
    "                           \"we've\": \"we have\", \"weren't\": \"were not\", \"what'll\": \"what will\", \"what'll've\": \"what will have\", \"what're\": \"what are\",\n",
    "                           \"what's\": \"what is\", \"what've\": \"what have\", \"when's\": \"when is\", \"when've\": \"when have\", \"where'd\": \"where did\", \"where's\": \"where is\",\n",
    "                           \"where've\": \"where have\", \"who'll\": \"who will\", \"who'll've\": \"who will have\", \"who's\": \"who is\", \"who've\": \"who have\",\n",
    "                           \"why's\": \"why is\", \"why've\": \"why have\", \"will've\": \"will have\", \"won't\": \"will not\", \"won't've\": \"will not have\",\n",
    "                           \"would've\": \"would have\", \"wouldn't\": \"would not\", \"wouldn't've\": \"would not have\", \"y'all\": \"you all\",\n",
    "                           \"y'all'd\": \"you all would\",\"y'all'd've\": \"you all would have\",\"y'all're\": \"you all are\",\"y'all've\": \"you all have\",\n",
    "                           \"you'd\": \"you would\", \"you'd've\": \"you would have\", \"you'll\": \"you will\", \"you'll've\": \"you will have\",\n",
    "                           \"you're\": \"you are\", \"you've\": \"you have\"}\n",
    "print(\"done\")"
   ]
  },
  {
   "cell_type": "code",
   "execution_count": 10,
   "id": "4ca9f3b5",
   "metadata": {},
   "outputs": [
    {
     "name": "stdout",
     "output_type": "stream",
     "text": [
      "불용어 개수 : 179\n",
      "['i', 'me', 'my', 'myself', 'we', 'our', 'ours', 'ourselves', 'you', \"you're\", \"you've\", \"you'll\", \"you'd\", 'your', 'yours', 'yourself', 'yourselves', 'he', 'him', 'his', 'himself', 'she', \"she's\", 'her', 'hers', 'herself', 'it', \"it's\", 'its', 'itself', 'they', 'them', 'their', 'theirs', 'themselves', 'what', 'which', 'who', 'whom', 'this', 'that', \"that'll\", 'these', 'those', 'am', 'is', 'are', 'was', 'were', 'be', 'been', 'being', 'have', 'has', 'had', 'having', 'do', 'does', 'did', 'doing', 'a', 'an', 'the', 'and', 'but', 'if', 'or', 'because', 'as', 'until', 'while', 'of', 'at', 'by', 'for', 'with', 'about', 'against', 'between', 'into', 'through', 'during', 'before', 'after', 'above', 'below', 'to', 'from', 'up', 'down', 'in', 'out', 'on', 'off', 'over', 'under', 'again', 'further', 'then', 'once', 'here', 'there', 'when', 'where', 'why', 'how', 'all', 'any', 'both', 'each', 'few', 'more', 'most', 'other', 'some', 'such', 'no', 'nor', 'not', 'only', 'own', 'same', 'so', 'than', 'too', 'very', 's', 't', 'can', 'will', 'just', 'don', \"don't\", 'should', \"should've\", 'now', 'd', 'll', 'm', 'o', 're', 've', 'y', 'ain', 'aren', \"aren't\", 'couldn', \"couldn't\", 'didn', \"didn't\", 'doesn', \"doesn't\", 'hadn', \"hadn't\", 'hasn', \"hasn't\", 'haven', \"haven't\", 'isn', \"isn't\", 'ma', 'mightn', \"mightn't\", 'mustn', \"mustn't\", 'needn', \"needn't\", 'shan', \"shan't\", 'shouldn', \"shouldn't\", 'wasn', \"wasn't\", 'weren', \"weren't\", 'won', \"won't\", 'wouldn', \"wouldn't\"]\n",
      "=3\n"
     ]
    }
   ],
   "source": [
    "# NLTK에서 제공하는 불용어 리스트를 참조해, 샘플에서 불용어를 제거하자.\n",
    "\n",
    "print('불용어 개수 :', len(stopwords.words('english') ))\n",
    "print(stopwords.words('english'))\n",
    "\n",
    "# 데이터 전처리 함수\n",
    "## Text 전처리에서만 호출하고, Summary 전처리에서는 호출하지 않는다.\n",
    "def preprocess_sentence(sentence, remove_stopwords=True):\n",
    "    sentence = sentence.lower() # 텍스트 소문자화\n",
    "    sentence = BeautifulSoup(sentence, \"lxml\").text # <br />, <a href = ...> 등의 html 태그 제거\n",
    "    sentence = re.sub(r'\\([^)]*\\)', '', sentence) # 괄호로 닫힌 문자열 (...) 제거 Ex) my husband (and myself!) for => my husband for\n",
    "    sentence = re.sub('\"','', sentence) # 쌍따옴표 \" 제거\n",
    "    sentence = ' '.join([contractions[t] if t in contractions else t for t in sentence.split(\" \")]) # 약어 정규화\n",
    "    sentence = re.sub(r\"'s\\b\",\"\", sentence) # 소유격 제거. Ex) roland's -> roland\n",
    "    sentence = re.sub(\"[^a-zA-Z]\", \" \", sentence) # 영어 외 문자(숫자, 특수문자 등) 공백으로 변환\n",
    "    sentence = re.sub('[m]{2,}', 'mm', sentence) # m이 3개 이상이면 2개로 변경. Ex) ummmmmmm yeah -> umm yeah\n",
    "    \n",
    "    # 불용어 제거 (Text)\n",
    "    if remove_stopwords:\n",
    "        tokens = ' '.join(word for word in sentence.split() if not word in stopwords.words('english') if len(word) > 1)\n",
    "    # 불용어 미제거 (Summary)\n",
    "    else:\n",
    "        tokens = ' '.join(word for word in sentence.split() if len(word) > 1)\n",
    "    return tokens\n",
    "print('=3')"
   ]
  },
  {
   "cell_type": "code",
   "execution_count": 11,
   "id": "0200f09d",
   "metadata": {},
   "outputs": [
    {
     "name": "stdout",
     "output_type": "stream",
     "text": [
      "Text 전처리 후 결과:  ['saurav kant alumnus upgrad iiit pg program machine learning artificial intelligence sr systems engineer infosys almost years work experience program upgrad degree career support helped transition data scientist tech mahindra salary hike upgrad online power learning powered lakh careers', 'kunal shah credit card bill payment platform cred gave users chance win free food swiggy one year pranav kaushik delhi techie bagged reward spending cred coins users get one cred coin per rupee bill paid used avail rewards brands like ixigo bookmyshow ubereats cult fit', 'new zealand defeated india wickets fourth odi hamilton thursday win first match five match odi series india lost international match rohit sharma captaincy consecutive victories dating back march match witnessed india getting seventh lowest total odi cricket history', 'aegon life iterm insurance plan customers enjoy tax benefits premiums paid save taxes plan provides life cover age years also customers options insure critical illnesses disability accidental death benefit rider life cover age years', 'speaking sexual harassment allegations rajkumar hirani sonam kapoor said known hirani many years true metoo movement get derailed metoo movement always believe woman case need reserve judgment added hirani accused assistant worked sanju']\n"
     ]
    }
   ],
   "source": [
    "# Text를 전처리하고, 결과를 확인하기 위해 상위 5개 출력\n",
    "\n",
    "clean_text = []\n",
    "# 전체 Text 데이터에 대한 전처리 : 10분 이상 시간이 걸릴 수 있습니다. \n",
    "for s in data['Text']:\n",
    "    clean_text.append(preprocess_sentence(s))\n",
    "\n",
    "# 전처리 후 출력\n",
    "print(\"Text 전처리 후 결과: \", clean_text[:5])"
   ]
  },
  {
   "cell_type": "code",
   "execution_count": 12,
   "id": "a4322062",
   "metadata": {},
   "outputs": [
    {
     "name": "stdout",
     "output_type": "stream",
     "text": [
      "Summary 전처리 후 결과:  ['upgrad learner switches to career in ml al with salary hike', 'delhi techie wins free food from swiggy for one year on cred', 'new zealand end rohit sharma led india match winning streak', 'aegon life iterm insurance plan helps customers save tax', 'have known hirani for yrs what if metoo claims are not true sonam']\n"
     ]
    }
   ],
   "source": [
    "# Summary 전처리 시에는 불용어 제거를 'False'로 지정\n",
    "\n",
    "clean_summary = []\n",
    "# 전체 Summary 데이터에 대한 전처리 : 5분 이상 시간이 걸릴 수 있습니다. \n",
    "for s in data['Summary']:\n",
    "    clean_summary.append(preprocess_sentence(s, False))\n",
    "\n",
    "print(\"Summary 전처리 후 결과: \", clean_summary[:5])"
   ]
  },
  {
   "cell_type": "code",
   "execution_count": 13,
   "id": "7b71f8e5",
   "metadata": {},
   "outputs": [
    {
     "name": "stdout",
     "output_type": "stream",
     "text": [
      "=3\n"
     ]
    }
   ],
   "source": [
    "# 이후, 다시 한 번 empty sample이 생겼는지 확인해보기.(정제 과정에서 모든 단어가 사라지는 경우도 있음)\n",
    "\n",
    "data['Text'] = clean_text\n",
    "data['Summary'] = clean_summary\n",
    "\n",
    "# 빈 값을 Null 값으로 변환\n",
    "data.replace('', np.nan, inplace=True)\n",
    "print('=3')"
   ]
  },
  {
   "cell_type": "code",
   "execution_count": 14,
   "id": "152106ba",
   "metadata": {},
   "outputs": [
    {
     "name": "stdout",
     "output_type": "stream",
     "text": [
      "Summary    0\n",
      "Text       0\n",
      "dtype: int64\n",
      "전체 샘플수 : 98360\n"
     ]
    }
   ],
   "source": [
    "# 빈 샘플을 확인후 제거하기\n",
    "\n",
    "print(data.isnull().sum())\n",
    "\n",
    "data.dropna(axis=0, inplace=True)\n",
    "print('전체 샘플수 :', (len(data)))"
   ]
  },
  {
   "cell_type": "markdown",
   "id": "094db55e",
   "metadata": {},
   "source": [
    "### (2) 훈련데이터와 데스트 데이터 나누기"
   ]
  },
  {
   "cell_type": "markdown",
   "id": "83fdb6b3",
   "metadata": {},
   "source": [
    "1) 샘플의 최대 길이 정하기"
   ]
  },
  {
   "cell_type": "code",
   "execution_count": 15,
   "id": "a24256b5",
   "metadata": {},
   "outputs": [
    {
     "name": "stdout",
     "output_type": "stream",
     "text": [
      "텍스트의 최소 길이 : 1\n",
      "텍스트의 최대 길이 : 60\n",
      "텍스트의 평균 길이 : 35.09968483123221\n",
      "요약의 최소 길이 : 1\n",
      "요약의 최대 길이 : 16\n",
      "요약의 평균 길이 : 9.299532330215534\n"
     ]
    },
    {
     "data": {
      "image/png": "[encoded data removed]",
      "text/plain": [
       "<Figure size 432x288 with 2 Axes>"
      ]
     },
     "metadata": {
      "needs_background": "light"
     },
     "output_type": "display_data"
    },
    {
     "data": {
      "image/png": "[encoded data removed]",
      "text/plain": [
       "<Figure size 432x288 with 1 Axes>"
      ]
     },
     "metadata": {
      "needs_background": "light"
     },
     "output_type": "display_data"
    },
    {
     "data": {
      "image/png": "[encoded data removed]",
      "text/plain": [
       "<Figure size 432x288 with 1 Axes>"
      ]
     },
     "metadata": {
      "needs_background": "light"
     },
     "output_type": "display_data"
    }
   ],
   "source": [
    "# 길이 분포 출력\n",
    "import matplotlib.pyplot as plt\n",
    "\n",
    "text_len = [len(s.split()) for s in data['Text']]\n",
    "summary_len = [len(s.split()) for s in data['Summary']]\n",
    "\n",
    "print('텍스트의 최소 길이 : {}'.format(np.min(text_len)))\n",
    "print('텍스트의 최대 길이 : {}'.format(np.max(text_len)))\n",
    "print('텍스트의 평균 길이 : {}'.format(np.mean(text_len)))\n",
    "print('요약의 최소 길이 : {}'.format(np.min(summary_len)))\n",
    "print('요약의 최대 길이 : {}'.format(np.max(summary_len)))\n",
    "print('요약의 평균 길이 : {}'.format(np.mean(summary_len)))\n",
    "\n",
    "plt.subplot(1,2,1)\n",
    "plt.boxplot(text_len)\n",
    "plt.title('Text')\n",
    "plt.subplot(1,2,2)\n",
    "plt.boxplot(summary_len)\n",
    "plt.title('Summary')\n",
    "plt.tight_layout()\n",
    "plt.show()\n",
    "\n",
    "plt.title('Text')\n",
    "plt.hist(text_len, bins = 40)\n",
    "plt.xlabel('length of samples')\n",
    "plt.ylabel('number of samples')\n",
    "plt.show()\n",
    "\n",
    "plt.title('Summary')\n",
    "plt.hist(summary_len, bins = 40)\n",
    "plt.xlabel('length of samples')\n",
    "plt.ylabel('number of samples')\n",
    "plt.show()"
   ]
  },
  {
   "cell_type": "code",
   "execution_count": 16,
   "id": "77381cf7",
   "metadata": {},
   "outputs": [
    {
     "name": "stdout",
     "output_type": "stream",
     "text": [
      "=3\n"
     ]
    }
   ],
   "source": [
    "text_max_len = 37\n",
    "summary_max_len = 10\n",
    "print('=3')"
   ]
  },
  {
   "cell_type": "code",
   "execution_count": 17,
   "id": "42fb67b3",
   "metadata": {},
   "outputs": [
    {
     "name": "stdout",
     "output_type": "stream",
     "text": [
      "=3\n",
      "전체 샘플 중 길이가 37 이하인 샘플의 비율: 0.7378304188694591\n",
      "전체 샘플 중 길이가 10 이하인 샘플의 비율: 0.8162972753151687\n"
     ]
    }
   ],
   "source": [
    "# 37, 10로 지정했을 때, 객관적으로 데이터의 몇 %가 이에 해당하는지 계산해서 판단하자.\n",
    "\n",
    "def below_threshold_len(max_len, nested_list):\n",
    "  cnt = 0\n",
    "  for s in nested_list:\n",
    "    if(len(s.split()) <= max_len):\n",
    "        cnt = cnt + 1\n",
    "  print('전체 샘플 중 길이가 %s 이하인 샘플의 비율: %s'%(max_len, (cnt / len(nested_list))))\n",
    "print('=3')\n",
    "\n",
    "below_threshold_len(text_max_len, data['Text'])\n",
    "below_threshold_len(summary_max_len,  data['Summary'])"
   ]
  },
  {
   "cell_type": "code",
   "execution_count": 18,
   "id": "f8948fe9",
   "metadata": {},
   "outputs": [
    {
     "name": "stdout",
     "output_type": "stream",
     "text": [
      "전체 샘플수 : 58912\n"
     ]
    }
   ],
   "source": [
    "# 정해진 길이보다 길면 제외하기\n",
    "\n",
    "data = data[data['Text'].apply(lambda x: len(x.split()) <= text_max_len)]\n",
    "data = data[data['Summary'].apply(lambda x: len(x.split()) <= summary_max_len)]\n",
    "print('전체 샘플수 :', (len(data)))"
   ]
  },
  {
   "cell_type": "markdown",
   "id": "59998561",
   "metadata": {},
   "source": [
    "2) 시작/종료 토큰 추가하기"
   ]
  },
  {
   "cell_type": "code",
   "execution_count": 19,
   "id": "10459082",
   "metadata": {},
   "outputs": [
    {
     "data": {
      "text/html": [
       "<div>\n",
       "<style scoped>\n",
       "    .dataframe tbody tr th:only-of-type {\n",
       "        vertical-align: middle;\n",
       "    }\n",
       "\n",
       "    .dataframe tbody tr th {\n",
       "        vertical-align: top;\n",
       "    }\n",
       "\n",
       "    .dataframe thead th {\n",
       "        text-align: right;\n",
       "    }\n",
       "</style>\n",
       "<table border=\"1\" class=\"dataframe\">\n",
       "  <thead>\n",
       "    <tr style=\"text-align: right;\">\n",
       "      <th></th>\n",
       "      <th>Summary</th>\n",
       "      <th>Text</th>\n",
       "      <th>decoder_input</th>\n",
       "      <th>decoder_target</th>\n",
       "    </tr>\n",
       "  </thead>\n",
       "  <tbody>\n",
       "    <tr>\n",
       "      <th>3</th>\n",
       "      <td>aegon life iterm insurance plan helps customer...</td>\n",
       "      <td>aegon life iterm insurance plan customers enjo...</td>\n",
       "      <td>sostoken aegon life iterm insurance plan helps...</td>\n",
       "      <td>aegon life iterm insurance plan helps customer...</td>\n",
       "    </tr>\n",
       "    <tr>\n",
       "      <th>5</th>\n",
       "      <td>rahat fateh ali khan denies getting notice for...</td>\n",
       "      <td>pakistani singer rahat fateh ali khan denied r...</td>\n",
       "      <td>sostoken rahat fateh ali khan denies getting n...</td>\n",
       "      <td>rahat fateh ali khan denies getting notice for...</td>\n",
       "    </tr>\n",
       "    <tr>\n",
       "      <th>9</th>\n",
       "      <td>cong wins ramgarh bypoll in rajasthan takes to...</td>\n",
       "      <td>congress candidate shafia zubair ramgarh assem...</td>\n",
       "      <td>sostoken cong wins ramgarh bypoll in rajasthan...</td>\n",
       "      <td>cong wins ramgarh bypoll in rajasthan takes to...</td>\n",
       "    </tr>\n",
       "    <tr>\n",
       "      <th>10</th>\n",
       "      <td>up cousins fed human excreta for friendship wi...</td>\n",
       "      <td>two minor cousins uttar pradesh gorakhpur alle...</td>\n",
       "      <td>sostoken up cousins fed human excreta for frie...</td>\n",
       "      <td>up cousins fed human excreta for friendship wi...</td>\n",
       "    </tr>\n",
       "    <tr>\n",
       "      <th>16</th>\n",
       "      <td>karan johar tabu turn showstoppers on opening ...</td>\n",
       "      <td>filmmaker karan johar actress tabu turned show...</td>\n",
       "      <td>sostoken karan johar tabu turn showstoppers on...</td>\n",
       "      <td>karan johar tabu turn showstoppers on opening ...</td>\n",
       "    </tr>\n",
       "  </tbody>\n",
       "</table>\n",
       "</div>"
      ],
      "text/plain": [
       "                                              Summary  \\\n",
       "3   aegon life iterm insurance plan helps customer...   \n",
       "5   rahat fateh ali khan denies getting notice for...   \n",
       "9   cong wins ramgarh bypoll in rajasthan takes to...   \n",
       "10  up cousins fed human excreta for friendship wi...   \n",
       "16  karan johar tabu turn showstoppers on opening ...   \n",
       "\n",
       "                                                 Text  \\\n",
       "3   aegon life iterm insurance plan customers enjo...   \n",
       "5   pakistani singer rahat fateh ali khan denied r...   \n",
       "9   congress candidate shafia zubair ramgarh assem...   \n",
       "10  two minor cousins uttar pradesh gorakhpur alle...   \n",
       "16  filmmaker karan johar actress tabu turned show...   \n",
       "\n",
       "                                        decoder_input  \\\n",
       "3   sostoken aegon life iterm insurance plan helps...   \n",
       "5   sostoken rahat fateh ali khan denies getting n...   \n",
       "9   sostoken cong wins ramgarh bypoll in rajasthan...   \n",
       "10  sostoken up cousins fed human excreta for frie...   \n",
       "16  sostoken karan johar tabu turn showstoppers on...   \n",
       "\n",
       "                                       decoder_target  \n",
       "3   aegon life iterm insurance plan helps customer...  \n",
       "5   rahat fateh ali khan denies getting notice for...  \n",
       "9   cong wins ramgarh bypoll in rajasthan takes to...  \n",
       "10  up cousins fed human excreta for friendship wi...  \n",
       "16  karan johar tabu turn showstoppers on opening ...  "
      ]
     },
     "execution_count": 19,
     "metadata": {},
     "output_type": "execute_result"
    }
   ],
   "source": [
    "# 요약 데이터에는 시작 토큰과 종료 토큰을 추가한다.\n",
    "data['decoder_input'] = data['Summary'].apply(lambda x : 'sostoken '+ x)\n",
    "data['decoder_target'] = data['Summary'].apply(lambda x : x + ' eostoken')\n",
    "data.head()"
   ]
  },
  {
   "cell_type": "code",
   "execution_count": 20,
   "id": "8eaef9b1",
   "metadata": {},
   "outputs": [
    {
     "name": "stdout",
     "output_type": "stream",
     "text": [
      "=3\n"
     ]
    }
   ],
   "source": [
    "# 인코더의 입력, 디코더의 입력 & 레이블을 다시 Numpy 타입으로 저장하기\n",
    "\n",
    "encoder_input = np.array(data['Text']) # 인코더의 입력\n",
    "decoder_input = np.array(data['decoder_input']) # 디코더의 입력\n",
    "decoder_target = np.array(data['decoder_target']) # 디코더의 레이블\n",
    "print('=3')"
   ]
  },
  {
   "cell_type": "code",
   "execution_count": 21,
   "id": "d4a8115f",
   "metadata": {},
   "outputs": [
    {
     "name": "stdout",
     "output_type": "stream",
     "text": [
      "[12263 24732 21461 ... 45393 38057  4838]\n",
      "=3\n",
      "테스트 데이터의 수 : 11782\n",
      "훈련 데이터의 개수 : 47130\n",
      "훈련 레이블의 개수 : 47130\n",
      "테스트 데이터의 개수 : 11782\n",
      "테스트 레이블의 개수 : 11782\n"
     ]
    }
   ],
   "source": [
    "# 훈련/테스트 데이터 분리\n",
    "\n",
    "## encoder_input과 크기/형태가 같은 순서가 섞인 정수 시퀀스 생성\n",
    "indices = np.arange(encoder_input.shape[0])\n",
    "np.random.shuffle(indices)\n",
    "print(indices)\n",
    "\n",
    "## 만든 정수 시퀀스를 이용해 데이터의 샘플 순서를 정의\n",
    "encoder_input = encoder_input[indices]\n",
    "decoder_input = decoder_input[indices]\n",
    "decoder_target = decoder_target[indices]\n",
    "print('=3')\n",
    "\n",
    "## 데이터를 8:2 비율로 분리. 전체 데이터 크기에서 0.2를 곱해서 테스트 데이터의 크기를 정한다.\n",
    "n_of_val = int(len(encoder_input)*0.2)\n",
    "print('테스트 데이터의 수 :', n_of_val)\n",
    "\n",
    "## 정의한 테스트 데이터 개수를 이용해 전체 데이터를 split.\n",
    "## : 표시의 위치에 주의!!\n",
    "\n",
    "encoder_input_train = encoder_input[:-n_of_val]\n",
    "decoder_input_train = decoder_input[:-n_of_val]\n",
    "decoder_target_train = decoder_target[:-n_of_val]\n",
    "\n",
    "encoder_input_test = encoder_input[-n_of_val:]\n",
    "decoder_input_test = decoder_input[-n_of_val:]\n",
    "decoder_target_test = decoder_target[-n_of_val:]\n",
    "\n",
    "print('훈련 데이터의 개수 :', len(encoder_input_train))\n",
    "print('훈련 레이블의 개수 :', len(decoder_input_train))\n",
    "print('테스트 데이터의 개수 :', len(encoder_input_test))\n",
    "print('테스트 레이블의 개수 :', len(decoder_input_test))"
   ]
  },
  {
   "cell_type": "markdown",
   "id": "2e830a97",
   "metadata": {},
   "source": [
    "### (3) 정수 인코딩"
   ]
  },
  {
   "cell_type": "markdown",
   "id": "d12b5f65",
   "metadata": {},
   "source": [
    "1) 단어 집합 만들기/정수 인코딩"
   ]
  },
  {
   "cell_type": "code",
   "execution_count": 22,
   "id": "85969959",
   "metadata": {},
   "outputs": [
    {
     "name": "stdout",
     "output_type": "stream",
     "text": [
      "=3\n"
     ]
    }
   ],
   "source": [
    "src_tokenizer = Tokenizer() # 토크나이저 정의\n",
    "src_tokenizer.fit_on_texts(encoder_input_train) # 입력된 데이터로부터 단어 집합 생성\n",
    "print('=3')"
   ]
  },
  {
   "cell_type": "code",
   "execution_count": 23,
   "id": "3d81ae55",
   "metadata": {},
   "outputs": [
    {
     "name": "stdout",
     "output_type": "stream",
     "text": [
      "단어 집합(vocabulary)의 크기 : 54210\n",
      "등장 빈도가 6번 이하인 희귀 단어의 수: 37479\n",
      "단어 집합에서 희귀 단어를 제외시킬 경우의 단어 집합의 크기 16731\n",
      "단어 집합에서 희귀 단어의 비율: 69.13669064748201\n",
      "전체 등장 빈도에서 희귀 단어 등장 빈도 비율: 4.8658730038061355\n"
     ]
    }
   ],
   "source": [
    "threshold = 7\n",
    "total_cnt = len(src_tokenizer.word_index) # 단어의 수\n",
    "rare_cnt = 0 # 등장 빈도수가 threshold보다 작은 단어의 개수를 카운트\n",
    "total_freq = 0 # 훈련 데이터의 전체 단어 빈도수 총 합\n",
    "rare_freq = 0 # 등장 빈도수가 threshold보다 작은 단어의 등장 빈도수의 총 합\n",
    "\n",
    "# 단어와 빈도수의 쌍(pair)을 key와 value로 받는다.\n",
    "for key, value in src_tokenizer.word_counts.items():\n",
    "    total_freq = total_freq + value\n",
    "\n",
    "    # 단어의 등장 빈도수가 threshold보다 작으면\n",
    "    if(value < threshold):\n",
    "        rare_cnt = rare_cnt + 1\n",
    "        rare_freq = rare_freq + value\n",
    "\n",
    "print('단어 집합(vocabulary)의 크기 :', total_cnt)\n",
    "print('등장 빈도가 %s번 이하인 희귀 단어의 수: %s'%(threshold - 1, rare_cnt))\n",
    "print('단어 집합에서 희귀 단어를 제외시킬 경우의 단어 집합의 크기 %s'%(total_cnt - rare_cnt))\n",
    "print(\"단어 집합에서 희귀 단어의 비율:\", (rare_cnt / total_cnt)*100)\n",
    "print(\"전체 등장 빈도에서 희귀 단어 등장 빈도 비율:\", (rare_freq / total_freq)*100)"
   ]
  },
  {
   "cell_type": "code",
   "execution_count": 24,
   "id": "38b27291",
   "metadata": {},
   "outputs": [
    {
     "name": "stdout",
     "output_type": "stream",
     "text": [
      "=3\n"
     ]
    }
   ],
   "source": [
    "src_vocab = 16000\n",
    "src_tokenizer = Tokenizer(num_words=src_vocab) # 단어 집합의 크기를 16,000으로 제한\n",
    "src_tokenizer.fit_on_texts(encoder_input_train) # 단어 집합 재생성\n",
    "print('=3')"
   ]
  },
  {
   "cell_type": "code",
   "execution_count": 25,
   "id": "195ad9a0",
   "metadata": {},
   "outputs": [
    {
     "name": "stdout",
     "output_type": "stream",
     "text": [
      "[[2766, 2370, 3514, 1290, 3665, 2702, 3354, 8239, 33, 86, 112, 330, 826, 7636, 2721, 177, 1248, 565, 4331, 1399, 7636, 758, 1002, 2239, 3845, 1676, 352], [2583, 142, 661, 630, 59, 60, 16, 4955, 64, 4015, 50, 1937, 2555, 559, 494, 4880, 6714, 169, 169, 288, 124, 3231, 415, 741, 2053, 741, 2262, 8029, 8030, 288, 256, 559, 1610, 60, 16, 1], [3006, 1057, 714, 28, 166, 775, 742, 8, 5530, 8031, 8708, 30, 43, 1164, 2683, 839, 95, 36, 2947, 78, 5198, 5277, 1926, 1336, 5530, 8031, 8708]]\n"
     ]
    }
   ],
   "source": [
    "# texts_to_sequences()는 생성된 단어 집합에 기반하여 입력으로 주어진 단어들을 모두 정수로 변환한다(정수인코딩).\n",
    "\n",
    "# 텍스트 시퀀스를 정수 시퀀스로 변환\n",
    "encoder_input_train = src_tokenizer.texts_to_sequences(encoder_input_train) \n",
    "encoder_input_test = src_tokenizer.texts_to_sequences(encoder_input_test)\n",
    "\n",
    "# 잘 진행되었는지 샘플 출력\n",
    "print(encoder_input_train[:3])"
   ]
  },
  {
   "cell_type": "code",
   "execution_count": 26,
   "id": "d4346159",
   "metadata": {},
   "outputs": [
    {
     "name": "stdout",
     "output_type": "stream",
     "text": [
      "=3\n",
      "단어 집합(vocabulary)의 크기 : 24815\n",
      "등장 빈도가 4번 이하인 희귀 단어의 수: 15934\n",
      "단어 집합에서 희귀 단어를 제외시킬 경우의 단어 집합의 크기 8881\n",
      "단어 집합에서 희귀 단어의 비율: 64.21116260326416\n",
      "전체 등장 빈도에서 희귀 단어 등장 빈도 비율: 5.9088189490009055\n"
     ]
    }
   ],
   "source": [
    "# Summary 데이터에 대해서도 동일한 작업 수행\n",
    "tar_tokenizer = Tokenizer()\n",
    "tar_tokenizer.fit_on_texts(decoder_input_train)\n",
    "print('=3')\n",
    "\n",
    "\n",
    "# tar_tokenizer.word_counts.items()에는 단어와 각 단어의 등장 빈도수가 저장돼 있다. \n",
    "# 이를 통해 등장 빈도수가 5회 미만인 단어들이 이 데이터에서 얼만큼의 비중을 차지하는지 확인해보자.\n",
    "threshold = 5\n",
    "total_cnt = len(tar_tokenizer.word_index) # 단어의 수\n",
    "rare_cnt = 0 # 등장 빈도수가 threshold보다 작은 단어의 개수를 카운트\n",
    "total_freq = 0 # 훈련 데이터의 전체 단어 빈도수 총 합\n",
    "rare_freq = 0 # 등장 빈도수가 threshold보다 작은 단어의 등장 빈도수의 총 합\n",
    "\n",
    "# 단어와 빈도수의 쌍(pair)을 key와 value로 받는다.\n",
    "for key, value in tar_tokenizer.word_counts.items():\n",
    "    total_freq = total_freq + value\n",
    "\n",
    "    # 단어의 등장 빈도수가 threshold보다 작으면\n",
    "    if(value < threshold):\n",
    "        rare_cnt = rare_cnt + 1\n",
    "        rare_freq = rare_freq + value\n",
    "\n",
    "print('단어 집합(vocabulary)의 크기 :', total_cnt)\n",
    "print('등장 빈도가 %s번 이하인 희귀 단어의 수: %s'%(threshold - 1, rare_cnt))\n",
    "print('단어 집합에서 희귀 단어를 제외시킬 경우의 단어 집합의 크기 %s'%(total_cnt - rare_cnt))\n",
    "print(\"단어 집합에서 희귀 단어의 비율:\", (rare_cnt / total_cnt)*100)\n",
    "print(\"전체 등장 빈도에서 희귀 단어 등장 빈도 비율:\", (rare_freq / total_freq)*100)"
   ]
  },
  {
   "cell_type": "code",
   "execution_count": 27,
   "id": "ab711465",
   "metadata": {},
   "outputs": [
    {
     "name": "stdout",
     "output_type": "stream",
     "text": [
      "input\n",
      "input  [[1, 65, 2959, 2858, 1694, 2859, 3, 6501], [1, 28, 2674, 1081, 918, 6, 2860, 3330, 215, 144, 42], [1, 53, 358, 4, 44, 5, 15, 7152, 25, 7887, 2960], [1, 5982, 66, 174, 6502, 149, 5], [1, 465, 96, 32, 441, 359, 1168, 5206, 5]]\n",
      "target\n",
      "decoder  [[65, 2959, 2858, 1694, 2859, 3, 6501, 2], [28, 2674, 1081, 918, 6, 2860, 3330, 215, 144, 42, 2], [53, 358, 4, 44, 5, 15, 7152, 25, 7887, 2960, 2], [5982, 66, 174, 6502, 149, 5, 2], [465, 96, 32, 441, 359, 1168, 5206, 5, 2]]\n"
     ]
    }
   ],
   "source": [
    "# 이전과 동일하게, 등장 빈도가 4회 이하인 단어들을 제거한다.\n",
    "# 어림잡아 8000을 단어 집합의 크기로 제한한다.\n",
    "\n",
    "tar_vocab = 8000\n",
    "tar_tokenizer = Tokenizer(num_words=tar_vocab) \n",
    "tar_tokenizer.fit_on_texts(decoder_input_train)\n",
    "tar_tokenizer.fit_on_texts(decoder_target_train)\n",
    "\n",
    "# 텍스트 시퀀스를 정수 시퀀스로 변환\n",
    "decoder_input_train = tar_tokenizer.texts_to_sequences(decoder_input_train) \n",
    "decoder_target_train = tar_tokenizer.texts_to_sequences(decoder_target_train)\n",
    "decoder_input_test = tar_tokenizer.texts_to_sequences(decoder_input_test)\n",
    "decoder_target_test = tar_tokenizer.texts_to_sequences(decoder_target_test)\n",
    "\n",
    "# 잘 변환되었는지 확인\n",
    "print('input')\n",
    "print('input ',decoder_input_train[:5])\n",
    "print('target')\n",
    "print('decoder ',decoder_target_train[:5])"
   ]
  },
  {
   "cell_type": "code",
   "execution_count": 28,
   "id": "e152661b",
   "metadata": {},
   "outputs": [
    {
     "name": "stdout",
     "output_type": "stream",
     "text": [
      "삭제할 훈련 데이터의 개수 : 0\n",
      "삭제할 테스트 데이터의 개수 : 0\n",
      "훈련 데이터의 개수 : 47130\n",
      "훈련 레이블의 개수 : 47130\n",
      "테스트 데이터의 개수 : 11782\n",
      "테스트 레이블의 개수 : 11782\n"
     ]
    }
   ],
   "source": [
    "# 길이가 1인 요약문 삭제\n",
    "\n",
    "drop_train = [index for index, sentence in enumerate(decoder_input_train) if len(sentence) == 1]\n",
    "drop_test = [index for index, sentence in enumerate(decoder_input_test) if len(sentence) == 1]\n",
    "\n",
    "print('삭제할 훈련 데이터의 개수 :', len(drop_train))\n",
    "print('삭제할 테스트 데이터의 개수 :', len(drop_test))\n",
    "\n",
    "encoder_input_train = [sentence for index, sentence in enumerate(encoder_input_train) if index not in drop_train]\n",
    "decoder_input_train = [sentence for index, sentence in enumerate(decoder_input_train) if index not in drop_train]\n",
    "decoder_target_train = [sentence for index, sentence in enumerate(decoder_target_train) if index not in drop_train]\n",
    "\n",
    "encoder_input_test = [sentence for index, sentence in enumerate(encoder_input_test) if index not in drop_test]\n",
    "decoder_input_test = [sentence for index, sentence in enumerate(decoder_input_test) if index not in drop_test]\n",
    "decoder_target_test = [sentence for index, sentence in enumerate(decoder_target_test) if index not in drop_test]\n",
    "\n",
    "print('훈련 데이터의 개수 :', len(encoder_input_train))\n",
    "print('훈련 레이블의 개수 :', len(decoder_input_train))\n",
    "print('테스트 데이터의 개수 :', len(encoder_input_test))\n",
    "print('테스트 레이블의 개수 :', len(decoder_input_test))"
   ]
  },
  {
   "cell_type": "markdown",
   "id": "0fc5a3ac",
   "metadata": {},
   "source": [
    "2) 패딩"
   ]
  },
  {
   "cell_type": "code",
   "execution_count": 29,
   "id": "5c798346",
   "metadata": {},
   "outputs": [
    {
     "name": "stdout",
     "output_type": "stream",
     "text": [
      "=3\n"
     ]
    }
   ],
   "source": [
    "encoder_input_train = pad_sequences(encoder_input_train, maxlen=text_max_len, padding='post')\n",
    "encoder_input_test = pad_sequences(encoder_input_test, maxlen=text_max_len, padding='post')\n",
    "decoder_input_train = pad_sequences(decoder_input_train, maxlen=summary_max_len, padding='post')\n",
    "decoder_target_train = pad_sequences(decoder_target_train, maxlen=summary_max_len, padding='post')\n",
    "decoder_input_test = pad_sequences(decoder_input_test, maxlen=summary_max_len, padding='post')\n",
    "decoder_target_test = pad_sequences(decoder_target_test, maxlen=summary_max_len, padding='post')\n",
    "print('=3')"
   ]
  },
  {
   "cell_type": "markdown",
   "id": "580ab81d",
   "metadata": {},
   "source": [
    "## Step 3. 어텐션 메커니즘 사용하기 (추상적 요약)\n",
    "\n",
    "일반적인 seq2seq보다는 어텐션 메커니즘을 사용한 seq2seq를 사용하는 것이 더 나은 성능을 얻을 수 있어요. 실습 내용을 참고하여 어텐션 메커니즘을 사용한 seq2seq를 설계해 보세요."
   ]
  },
  {
   "cell_type": "markdown",
   "id": "14045db4",
   "metadata": {},
   "source": [
    "1) 인코더 설계"
   ]
  },
  {
   "cell_type": "code",
   "execution_count": 30,
   "id": "081461ee",
   "metadata": {},
   "outputs": [
    {
     "name": "stdout",
     "output_type": "stream",
     "text": [
      "WARNING:tensorflow:Layer lstm will not use cuDNN kernels since it doesn't meet the criteria. It will use a generic GPU kernel as fallback when running on GPU.\n",
      "WARNING:tensorflow:Layer lstm_1 will not use cuDNN kernels since it doesn't meet the criteria. It will use a generic GPU kernel as fallback when running on GPU.\n",
      "WARNING:tensorflow:Layer lstm_2 will not use cuDNN kernels since it doesn't meet the criteria. It will use a generic GPU kernel as fallback when running on GPU.\n"
     ]
    }
   ],
   "source": [
    "from tensorflow.keras.layers import Input, LSTM, Embedding, Dense, Concatenate, TimeDistributed\n",
    "from tensorflow.keras.models import Model\n",
    "from tensorflow.keras.callbacks import EarlyStopping, ModelCheckpoint\n",
    "\n",
    "\n",
    "# 인코더 설계 시작\n",
    "embedding_dim = 128\n",
    "hidden_size = 256\n",
    "\n",
    "# 인코더\n",
    "encoder_inputs = Input(shape=(text_max_len,))\n",
    "\n",
    "# 인코더의 임베딩 층\n",
    "enc_emb = Embedding(src_vocab, embedding_dim)(encoder_inputs)\n",
    "\n",
    "# 인코더의 LSTM 1\n",
    "encoder_lstm1 = LSTM(hidden_size, return_sequences=True, return_state=True ,dropout = 0.4, recurrent_dropout = 0.4)\n",
    "encoder_output1, state_h1, state_c1 = encoder_lstm1(enc_emb)\n",
    "\n",
    "# 인코더의 LSTM 2\n",
    "encoder_lstm2 = LSTM(hidden_size, return_sequences=True, return_state=True, dropout=0.4, recurrent_dropout=0.4)\n",
    "encoder_output2, state_h2, state_c2 = encoder_lstm2(encoder_output1)\n",
    "\n",
    "# 인코더의 LSTM 3\n",
    "encoder_lstm3 = LSTM(hidden_size, return_state=True, return_sequences=True, dropout=0.4, recurrent_dropout=0.4)\n",
    "encoder_outputs, state_h, state_c= encoder_lstm3(encoder_output2)"
   ]
  },
  {
   "cell_type": "markdown",
   "id": "5a91a5a0",
   "metadata": {},
   "source": [
    "2) 디코더 설계"
   ]
  },
  {
   "cell_type": "code",
   "execution_count": 31,
   "id": "b6f3be1f",
   "metadata": {},
   "outputs": [
    {
     "name": "stdout",
     "output_type": "stream",
     "text": [
      "WARNING:tensorflow:Layer lstm_3 will not use cuDNN kernels since it doesn't meet the criteria. It will use a generic GPU kernel as fallback when running on GPU.\n"
     ]
    }
   ],
   "source": [
    "# 디코더 설계\n",
    "decoder_inputs = Input(shape=(None,))\n",
    "\n",
    "# 디코더의 임베딩 층\n",
    "dec_emb_layer = Embedding(tar_vocab, embedding_dim)\n",
    "dec_emb = dec_emb_layer(decoder_inputs)\n",
    "\n",
    "# 디코더의 LSTM\n",
    "decoder_lstm = LSTM(hidden_size, return_sequences=True, return_state=True, dropout=0.4, recurrent_dropout=0.2)\n",
    "decoder_outputs, _, _ = decoder_lstm(dec_emb, initial_state=[state_h, state_c])"
   ]
  },
  {
   "cell_type": "markdown",
   "id": "f3678f96",
   "metadata": {},
   "source": [
    "3) 출력층 설계"
   ]
  },
  {
   "cell_type": "code",
   "execution_count": 32,
   "id": "64e80d87",
   "metadata": {},
   "outputs": [
    {
     "name": "stdout",
     "output_type": "stream",
     "text": [
      "Model: \"model\"\n",
      "__________________________________________________________________________________________________\n",
      "Layer (type)                    Output Shape         Param #     Connected to                     \n",
      "==================================================================================================\n",
      "input_1 (InputLayer)            [(None, 37)]         0                                            \n",
      "__________________________________________________________________________________________________\n",
      "embedding (Embedding)           (None, 37, 128)      2048000     input_1[0][0]                    \n",
      "__________________________________________________________________________________________________\n",
      "lstm (LSTM)                     [(None, 37, 256), (N 394240      embedding[0][0]                  \n",
      "__________________________________________________________________________________________________\n",
      "input_2 (InputLayer)            [(None, None)]       0                                            \n",
      "__________________________________________________________________________________________________\n",
      "lstm_1 (LSTM)                   [(None, 37, 256), (N 525312      lstm[0][0]                       \n",
      "__________________________________________________________________________________________________\n",
      "embedding_1 (Embedding)         (None, None, 128)    1024000     input_2[0][0]                    \n",
      "__________________________________________________________________________________________________\n",
      "lstm_2 (LSTM)                   [(None, 37, 256), (N 525312      lstm_1[0][0]                     \n",
      "__________________________________________________________________________________________________\n",
      "lstm_3 (LSTM)                   [(None, None, 256),  394240      embedding_1[0][0]                \n",
      "                                                                 lstm_2[0][1]                     \n",
      "                                                                 lstm_2[0][2]                     \n",
      "__________________________________________________________________________________________________\n",
      "dense (Dense)                   (None, None, 8000)   2056000     lstm_3[0][0]                     \n",
      "==================================================================================================\n",
      "Total params: 6,967,104\n",
      "Trainable params: 6,967,104\n",
      "Non-trainable params: 0\n",
      "__________________________________________________________________________________________________\n"
     ]
    }
   ],
   "source": [
    "# 디코더의 출력층\n",
    "decoder_softmax_layer = Dense(tar_vocab, activation='softmax')\n",
    "decoder_softmax_outputs = decoder_softmax_layer(decoder_outputs) \n",
    "\n",
    "# 모델 정의\n",
    "model = Model([encoder_inputs, decoder_inputs], decoder_softmax_outputs)\n",
    "model.summary()"
   ]
  },
  {
   "cell_type": "markdown",
   "id": "f21e13f9",
   "metadata": {},
   "source": [
    "4) 어텐션 메커니즘"
   ]
  },
  {
   "cell_type": "code",
   "execution_count": 33,
   "id": "d0120d5e",
   "metadata": {},
   "outputs": [
    {
     "name": "stdout",
     "output_type": "stream",
     "text": [
      "Model: \"model_1\"\n",
      "__________________________________________________________________________________________________\n",
      "Layer (type)                    Output Shape         Param #     Connected to                     \n",
      "==================================================================================================\n",
      "input_1 (InputLayer)            [(None, 37)]         0                                            \n",
      "__________________________________________________________________________________________________\n",
      "embedding (Embedding)           (None, 37, 128)      2048000     input_1[0][0]                    \n",
      "__________________________________________________________________________________________________\n",
      "lstm (LSTM)                     [(None, 37, 256), (N 394240      embedding[0][0]                  \n",
      "__________________________________________________________________________________________________\n",
      "input_2 (InputLayer)            [(None, None)]       0                                            \n",
      "__________________________________________________________________________________________________\n",
      "lstm_1 (LSTM)                   [(None, 37, 256), (N 525312      lstm[0][0]                       \n",
      "__________________________________________________________________________________________________\n",
      "embedding_1 (Embedding)         (None, None, 128)    1024000     input_2[0][0]                    \n",
      "__________________________________________________________________________________________________\n",
      "lstm_2 (LSTM)                   [(None, 37, 256), (N 525312      lstm_1[0][0]                     \n",
      "__________________________________________________________________________________________________\n",
      "lstm_3 (LSTM)                   [(None, None, 256),  394240      embedding_1[0][0]                \n",
      "                                                                 lstm_2[0][1]                     \n",
      "                                                                 lstm_2[0][2]                     \n",
      "__________________________________________________________________________________________________\n",
      "attention_layer (AdditiveAttent (None, None, 256)    256         lstm_3[0][0]                     \n",
      "                                                                 lstm_2[0][0]                     \n",
      "__________________________________________________________________________________________________\n",
      "concat_layer (Concatenate)      (None, None, 512)    0           lstm_3[0][0]                     \n",
      "                                                                 attention_layer[0][0]            \n",
      "__________________________________________________________________________________________________\n",
      "dense_1 (Dense)                 (None, None, 8000)   4104000     concat_layer[0][0]               \n",
      "==================================================================================================\n",
      "Total params: 9,015,360\n",
      "Trainable params: 9,015,360\n",
      "Non-trainable params: 0\n",
      "__________________________________________________________________________________________________\n"
     ]
    }
   ],
   "source": [
    "from tensorflow.keras.layers import AdditiveAttention\n",
    "\n",
    "# 어텐션 층(어텐션 함수)\n",
    "attn_layer = AdditiveAttention(name='attention_layer')\n",
    "\n",
    "# 인코더와 디코더의 모든 time step의 hidden state를 어텐션 층에 전달하고 결과를 리턴\n",
    "attn_out = attn_layer([decoder_outputs, encoder_outputs])\n",
    "\n",
    "\n",
    "# 어텐션의 결과와 디코더의 hidden state들을 연결\n",
    "decoder_concat_input = Concatenate(axis=-1, name='concat_layer')([decoder_outputs, attn_out])\n",
    "\n",
    "# 디코더의 출력층\n",
    "decoder_softmax_layer = Dense(tar_vocab, activation='softmax')\n",
    "decoder_softmax_outputs = decoder_softmax_layer(decoder_concat_input)\n",
    "\n",
    "# 모델 정의\n",
    "model = Model([encoder_inputs, decoder_inputs], decoder_softmax_outputs)\n",
    "model.summary()"
   ]
  },
  {
   "cell_type": "markdown",
   "id": "64a93153",
   "metadata": {},
   "source": [
    "5) 모델 훈련하기"
   ]
  },
  {
   "cell_type": "code",
   "execution_count": 34,
   "id": "9ed6b119",
   "metadata": {},
   "outputs": [
    {
     "name": "stdout",
     "output_type": "stream",
     "text": [
      "Epoch 1/50\n",
      "185/185 [==============================] - 113s 558ms/step - loss: 6.2626 - val_loss: 5.8420\n",
      "Epoch 2/50\n",
      "185/185 [==============================] - 100s 542ms/step - loss: 5.7686 - val_loss: 5.6105\n",
      "Epoch 3/50\n",
      "185/185 [==============================] - 100s 541ms/step - loss: 5.5058 - val_loss: 5.3927\n",
      "Epoch 4/50\n",
      "185/185 [==============================] - 101s 544ms/step - loss: 5.2572 - val_loss: 5.2027\n",
      "Epoch 5/50\n",
      "185/185 [==============================] - 102s 553ms/step - loss: 5.0418 - val_loss: 5.0649\n",
      "Epoch 6/50\n",
      "185/185 [==============================] - 102s 551ms/step - loss: 4.8476 - val_loss: 4.9148\n",
      "Epoch 7/50\n",
      "185/185 [==============================] - 102s 553ms/step - loss: 4.6698 - val_loss: 4.7953\n",
      "Epoch 8/50\n",
      "185/185 [==============================] - 101s 547ms/step - loss: 4.5074 - val_loss: 4.7176\n",
      "Epoch 9/50\n",
      "185/185 [==============================] - 100s 540ms/step - loss: 4.3648 - val_loss: 4.6388\n",
      "Epoch 10/50\n",
      "185/185 [==============================] - 100s 540ms/step - loss: 4.2330 - val_loss: 4.5654\n",
      "Epoch 11/50\n",
      "185/185 [==============================] - 101s 545ms/step - loss: 4.1139 - val_loss: 4.5094\n",
      "Epoch 12/50\n",
      "185/185 [==============================] - 101s 545ms/step - loss: 4.0025 - val_loss: 4.4550\n",
      "Epoch 13/50\n",
      "185/185 [==============================] - 101s 544ms/step - loss: 3.9002 - val_loss: 4.4271\n",
      "Epoch 14/50\n",
      "185/185 [==============================] - 101s 548ms/step - loss: 3.8052 - val_loss: 4.3945\n",
      "Epoch 15/50\n",
      "185/185 [==============================] - 101s 546ms/step - loss: 3.7178 - val_loss: 4.3667\n",
      "Epoch 16/50\n",
      "185/185 [==============================] - 101s 545ms/step - loss: 3.6321 - val_loss: 4.3450\n",
      "Epoch 17/50\n",
      "185/185 [==============================] - 101s 543ms/step - loss: 3.5527 - val_loss: 4.3176\n",
      "Epoch 18/50\n",
      "185/185 [==============================] - 100s 542ms/step - loss: 3.4790 - val_loss: 4.3172\n",
      "Epoch 19/50\n",
      "185/185 [==============================] - 100s 543ms/step - loss: 3.4108 - val_loss: 4.2996\n",
      "Epoch 20/50\n",
      "185/185 [==============================] - 101s 545ms/step - loss: 3.3457 - val_loss: 4.3013\n",
      "Epoch 21/50\n",
      "185/185 [==============================] - 101s 544ms/step - loss: 3.2837 - val_loss: 4.2773\n",
      "Epoch 22/50\n",
      "185/185 [==============================] - 101s 545ms/step - loss: 3.2233 - val_loss: 4.2731\n",
      "Epoch 23/50\n",
      "185/185 [==============================] - 101s 547ms/step - loss: 3.1677 - val_loss: 4.2792\n",
      "Epoch 24/50\n",
      "185/185 [==============================] - 100s 543ms/step - loss: 3.1127 - val_loss: 4.2746\n",
      "Epoch 00024: early stopping\n"
     ]
    }
   ],
   "source": [
    "model.compile(optimizer='rmsprop', loss='sparse_categorical_crossentropy')\n",
    "es = EarlyStopping(monitor='val_loss', patience=2, verbose=1)\n",
    "history = model.fit(x=[encoder_input_train, decoder_input_train], y=decoder_target_train, \\\n",
    "          validation_data=([encoder_input_test, decoder_input_test], decoder_target_test), \\\n",
    "          batch_size=256, callbacks=[es], epochs=50)"
   ]
  },
  {
   "cell_type": "markdown",
   "id": "6097e3ed",
   "metadata": {},
   "source": [
    "6) train, val dataset의 loss를 시각화"
   ]
  },
  {
   "cell_type": "code",
   "execution_count": 35,
   "id": "dff0877f",
   "metadata": {},
   "outputs": [
    {
     "data": {
      "image/png": "[encoded data removed]",
      "text/plain": [
       "<Figure size 432x288 with 1 Axes>"
      ]
     },
     "metadata": {
      "needs_background": "light"
     },
     "output_type": "display_data"
    }
   ],
   "source": [
    "plt.plot(history.history['loss'], label='train')\n",
    "plt.plot(history.history['val_loss'], label='test')\n",
    "plt.legend()\n",
    "plt.show()"
   ]
  },
  {
   "cell_type": "markdown",
   "id": "959dea7d",
   "metadata": {},
   "source": [
    "## Step 4. 실제 결과와 요약문 비교하기 (추상적 요약)\n",
    "\n",
    "원래의 요약문(headlines 열)과 학습을 통해 얻은 추상적 요약의 결과를 비교해 보세요."
   ]
  },
  {
   "cell_type": "markdown",
   "id": "91405d7d",
   "metadata": {},
   "source": [
    "### (1) 인퍼런스 모델 구현하기"
   ]
  },
  {
   "cell_type": "markdown",
   "id": "8fa997f0",
   "metadata": {},
   "source": [
    "1) 인코더 설계"
   ]
  },
  {
   "cell_type": "code",
   "execution_count": 36,
   "id": "b4e8513f",
   "metadata": {},
   "outputs": [
    {
     "name": "stdout",
     "output_type": "stream",
     "text": [
      "=3\n"
     ]
    }
   ],
   "source": [
    "src_index_to_word = src_tokenizer.index_word # 원문 단어 집합에서 정수 -> 단어를 얻음\n",
    "tar_word_to_index = tar_tokenizer.word_index # 요약 단어 집합에서 단어 -> 정수를 얻음\n",
    "tar_index_to_word = tar_tokenizer.index_word # 요약 단어 집합에서 정수 -> 단어를 얻음\n",
    "\n",
    "print('=3')"
   ]
  },
  {
   "cell_type": "code",
   "execution_count": 37,
   "id": "bd72fafc",
   "metadata": {},
   "outputs": [
    {
     "name": "stdout",
     "output_type": "stream",
     "text": [
      "=3\n"
     ]
    }
   ],
   "source": [
    "# 인코더 설계\n",
    "encoder_model = Model(inputs=encoder_inputs, outputs=[encoder_outputs, state_h, state_c])\n",
    "\n",
    "# 이전 시점의 상태들을 저장하는 텐서\n",
    "decoder_state_input_h = Input(shape=(hidden_size,))\n",
    "decoder_state_input_c = Input(shape=(hidden_size,))\n",
    "\n",
    "dec_emb2 = dec_emb_layer(decoder_inputs)\n",
    "\n",
    "# 문장의 다음 단어를 예측하기 위해서 초기 상태(initial_state)를 이전 시점의 상태로 사용. 이는 뒤의 함수 decode_sequence()에 구현\n",
    "# 훈련 과정에서와 달리 LSTM의 리턴하는 은닉 상태와 셀 상태인 state_h와 state_c를 버리지 않음.\n",
    "decoder_outputs2, state_h2, state_c2 = decoder_lstm(dec_emb2, initial_state=[decoder_state_input_h, decoder_state_input_c])\n",
    "\n",
    "print('=3')"
   ]
  },
  {
   "cell_type": "markdown",
   "id": "a5eb17c7",
   "metadata": {},
   "source": [
    "2) 어텐션 메커니즘을 사용한 출력층 설계"
   ]
  },
  {
   "cell_type": "code",
   "execution_count": 38,
   "id": "3920cf04",
   "metadata": {},
   "outputs": [
    {
     "name": "stdout",
     "output_type": "stream",
     "text": [
      "=3\n"
     ]
    }
   ],
   "source": [
    "# 어텐션 함수\n",
    "decoder_hidden_state_input = Input(shape=(text_max_len, hidden_size))\n",
    "attn_out_inf = attn_layer([decoder_outputs2, decoder_hidden_state_input])\n",
    "decoder_inf_concat = Concatenate(axis=-1, name='concat')([decoder_outputs2, attn_out_inf])\n",
    "\n",
    "# 디코더의 출력층\n",
    "decoder_outputs2 = decoder_softmax_layer(decoder_inf_concat) \n",
    "\n",
    "# 최종 디코더 모델\n",
    "decoder_model = Model(\n",
    "    [decoder_inputs] + [decoder_hidden_state_input,decoder_state_input_h, decoder_state_input_c],\n",
    "    [decoder_outputs2] + [state_h2, state_c2])\n",
    "\n",
    "print('=3')"
   ]
  },
  {
   "cell_type": "markdown",
   "id": "a29cc989",
   "metadata": {},
   "source": [
    "3) 단어 시퀀스를 완성하는 함수 생성"
   ]
  },
  {
   "cell_type": "code",
   "execution_count": 39,
   "id": "6a837e85",
   "metadata": {},
   "outputs": [
    {
     "name": "stdout",
     "output_type": "stream",
     "text": [
      "=3\n"
     ]
    }
   ],
   "source": [
    "def decode_sequence(input_seq):\n",
    "    # 입력으로부터 인코더의 상태를 얻음\n",
    "    e_out, e_h, e_c = encoder_model.predict(input_seq)\n",
    "\n",
    "     # <SOS>에 해당하는 토큰 생성\n",
    "    target_seq = np.zeros((1,1))\n",
    "    target_seq[0, 0] = tar_word_to_index['sostoken']\n",
    "\n",
    "    stop_condition = False\n",
    "    decoded_sentence = ''\n",
    "    while not stop_condition: # stop_condition이 True가 될 때까지 루프 반복\n",
    "\n",
    "        output_tokens, h, c = decoder_model.predict([target_seq] + [e_out, e_h, e_c])\n",
    "        sampled_token_index = np.argmax(output_tokens[0, -1, :])\n",
    "        sampled_token = tar_index_to_word[sampled_token_index]\n",
    "\n",
    "        if (sampled_token!='eostoken'):\n",
    "            decoded_sentence += ' '+sampled_token\n",
    "\n",
    "        #  <eos>에 도달하거나 최대 길이를 넘으면 중단.\n",
    "        if (sampled_token == 'eostoken'  or len(decoded_sentence.split()) >= (summary_max_len-1)):\n",
    "            stop_condition = True\n",
    "\n",
    "        # 길이가 1인 타겟 시퀀스를 업데이트\n",
    "        target_seq = np.zeros((1,1))\n",
    "        target_seq[0, 0] = sampled_token_index\n",
    "\n",
    "        # 상태를 업데이트 합니다.\n",
    "        e_h, e_c = h, c\n",
    "\n",
    "    return decoded_sentence\n",
    "print('=3')"
   ]
  },
  {
   "cell_type": "markdown",
   "id": "f22de708",
   "metadata": {},
   "source": [
    "4) 모델 테스트"
   ]
  },
  {
   "cell_type": "code",
   "execution_count": 40,
   "id": "5e6958fc",
   "metadata": {},
   "outputs": [
    {
     "name": "stdout",
     "output_type": "stream",
     "text": [
      "=3\n"
     ]
    }
   ],
   "source": [
    "# 원문의 정수 시퀀스를 텍스트 시퀀스로 변환\n",
    "def seq2text(input_seq):\n",
    "    temp=''\n",
    "    for i in input_seq:\n",
    "        if (i!=0):\n",
    "            temp = temp + src_index_to_word[i]+' '\n",
    "    return temp\n",
    "\n",
    "# 요약문의 정수 시퀀스를 텍스트 시퀀스로 변환\n",
    "def seq2summary(input_seq):\n",
    "    temp=''\n",
    "    for i in input_seq:\n",
    "        if ((i!=0 and i!=tar_word_to_index['sostoken']) and i!=tar_word_to_index['eostoken']):\n",
    "            temp = temp + tar_index_to_word[i] + ' '\n",
    "    return temp\n",
    "\n",
    "print('=3')"
   ]
  },
  {
   "cell_type": "code",
   "execution_count": 41,
   "id": "a671007f",
   "metadata": {},
   "outputs": [
    {
     "name": "stdout",
     "output_type": "stream",
     "text": [
      "원문 : war violence persecution worldwide forced crore people one person every three seconds leave homes according report un refugee agency unacceptable number speaks ever need solidarity ensuring together world refugees asylum seekers properly protected un said \n",
      "실제 요약 : one person forced to flee home every seconds last year \n",
      "예측 요약 :  crore in india over crore\n",
      "\n",
      "\n",
      "원문 : world oldest billionaire david sr died age monday due heart failure controlled chase manhattan bank decade estimated net worth billion grandson standard oil co founder john america first billionaire \n",
      "실제 요약 : world oldest billionaire dies at the age of \n",
      "예측 요약 :  ferrari dies after years after years\n",
      "\n",
      "\n",
      "원문 : shiv sena leader sanjay raut written story film thackeray said nobody ban film comment came amid reports censor board objected certain scenes biopic shiv sena founder late bal thackeray said film true story balasaheb life open book \n",
      "실제 요약 : nobody can ban thackeray shiv sena leader sanjay \n",
      "예측 요약 :  cbfc chief toilet ek prem katha in film maker\n",
      "\n",
      "\n",
      "원문 : vice president venkaiah naidu sunday called political parties evolve consensus national code conduct mps mlas inside outside otherwise people might soon lose faith political processes institutions naidu said speaking launch book based one year vice president \n",
      "실제 요약 : need national code of conduct for mps mlas vice prez \n",
      "예측 요약 :  vice prez kovind resigns from lok sabha exit\n",
      "\n",
      "\n",
      "원문 : woman team indian army officers led colonel pawar scaled mount ii set world record performing yoga altitude feet team nine officers broke previous record held indian army performing yoga altitude feet siachen glacier \n",
      "실제 요약 : female army officers perform yoga at feet set record \n",
      "예측 요약 :  man holds record for km in jaipur\n",
      "\n",
      "\n",
      "원문 : uttarakhand cm trivendra singh rawat monday announced holidays government officers stand cancelled view heavy rain alert issued next days employees directed stay respective areas response time reduced case emergency \n",
      "실제 요약 : uttarakhand cancels officers holidays over heavy rain alert \n",
      "예측 요약 :  maharashtra govt to start up pollution on road accidents\n",
      "\n",
      "\n",
      "원문 : european news agencies slammed google facebook news free calling internet giants share revenues media said companies use vast news produced great cost publishers without paying poses threat consumers democracy added \n",
      "실제 요약 : european agencies slam google fb for showing news for free \n",
      "예측 요약 :  facebook to launch fake news for calling uk\n",
      "\n",
      "\n",
      "원문 : national company law tribunal admitted insolvency petition company failing pay employee dues time nitin gupta manager applied filed plea insolvency bankruptcy code operational company unpaid salary amounted lakh due delayed irregular payments gupta said \n",
      "실제 요약 : insolvency action on firm for not paying worker on time \n",
      "예측 요약 :  sc rejects probe into mallya lara to pay\n",
      "\n",
      "\n",
      "원문 : kareena kapoor khan said lived life post marriage baby idea woman constantly live life way wants mantra life added necessary fearless choices said \n",
      "실제 요약 : lived my life post marriage after baby kareena \n",
      "예측 요약 :  kareena kapoor to marry girlfriend daughter in years\n",
      "\n",
      "\n",
      "원문 : bombay high court today asked people opposing destruction metro rail project practical need metro traffic mumbai becoming bad worse hc said metro mumbai years ago years later added \n",
      "실제 요약 : be hc to people against cutting trees for metro \n",
      "예측 요약 :  hc directs delhi metro to stop mumbai metro stations\n",
      "\n",
      "\n",
      "원문 : hundreds flyers reached wrong terminal indigo spicejet partially shifted operations delhi airport terminal sunday flyers tickets mentioned terminal booked tickets much advance others reportedly check tickets properly however airline officers assisted passengers confusion \n",
      "실제 요약 : flyers reach wrong terminal as airlines shift to delhi \n",
      "예측 요약 :  indigo staff to shift airport to delhi airport\n",
      "\n",
      "\n",
      "원문 : around pair shoes number palestinians killed israeli forces past decade laid outside eu council building belgian capital brussels display organised ngo sign protest violence campaigners also urged eu take action israeli palestinian conflict \n",
      "실제 요약 : pair of shoes laid at eu to protest palestinian deaths \n",
      "예측 요약 :  israel to get its own gas plant in\n",
      "\n",
      "\n",
      "원문 : apple hit back microsoft ceo satya nadella ipad remark need get real computer friend advertisement ipad pro advertisement company shows child using ipad pro asking computer nadella made remark saw journalists interviewing using ipads \n",
      "실제 요약 : apple hits back at microsoft ceo on ipad remark \n",
      "예측 요약 :  apple ceo tim cook to take jobs in reports\n",
      "\n",
      "\n",
      "원문 : guests sleep side cliff bed breakfast england clients stay tied harness bit middle stop rolling owner said experience costs includes meal lowered clients \n",
      "실제 요약 : guests can sleep on from in uk \n",
      "예측 요약 :  woman undergoes basketball in\n",
      "\n",
      "\n",
      "원문 : talking wife mira rajput second pregnancy actor shahid kapoor said looking forward new member family feeling really good amazing feeling still time added shahid said second time feel new first time felt new \n",
      "실제 요약 : for new family member shahid on mira nd pregnancy \n",
      "예측 요약 :  was like to be mira on instagram\n",
      "\n",
      "\n",
      "원문 : government railway police reportedly launch special helpline mumbai allow commuters directly report crimes thefts harassment nearest duty policeman officials said helpline use specially designed software locate ground staff likely reduce police response time less five minutes \n",
      "실제 요약 : mumbai railway police to launch helpline for reporting crime \n",
      "예측 요약 :  railways to launch sexual harassment at delhi\n",
      "\n",
      "\n",
      "원문 : picture abhishek bachchan taapsee pannu sets upcoming film manmarziyaan surfaced online seen dressed punjabi groom bride picture directed anurag kashyap manmarziyaan love story set punjab also star actor vicky kaushal lead role \n",
      "실제 요약 : abhishek taapsee pic from manmarziyaan set emerges online \n",
      "예측 요약 :  video shows amitabh bachchan on sets of her\n",
      "\n",
      "\n",
      "원문 : pakistani taliban chief maulana also known radio behind attack nobel laureate malala yousafzai reportedly killed us drone strike afghanistan four commanders targeted iftar party report added also behind peshawar school attack pakistan \n",
      "실제 요약 : radio man behind attack on malala killed by us \n",
      "예측 요약 :  afghanistan is the kabul victims\n",
      "\n",
      "\n",
      "원문 : speaking clash film aiyaary akshay kumar pad man sidharth malhotra said yes late situation could resolved earlier people could stuck dates others space added pad man aiyaary scheduled release february \n",
      "실제 요약 : it me sidharth on clash between pad man aiyaary \n",
      "예측 요약 :  akshay kumar to play in his film reports\n",
      "\n",
      "\n",
      "원문 : university england uk lift never stops elevator comprises chain open compartments moving continuously vertical loop without stopping known tallest surviving lift uk passenger cars \n",
      "실제 요약 : university in england has lift that never stops \n",
      "예측 요약 :  scientists to get first of\n",
      "\n",
      "\n",
      "원문 : european parliament passed resolution calling ban arms sale saudi arabia role yemen civil war accusing kingdom war crimes resolution blamed saudi led air strikes killing civilians violation laws war saudi arabia fighting houthi rebels yemen since \n",
      "실제 요약 : eu calls for ban on arms sale to saudi arabia \n",
      "예측 요약 :  uk rejects cr aid to take cr over rohingyas\n",
      "\n",
      "\n",
      "원문 : country largest lender state bank india said payment services agreed pick stake card acceptance digital payment platform sbi payment services state run lender shareholding payments arm reduce transaction completed deal disclosed \n",
      "실제 요약 : sbi to sell stake in payment services arm to \n",
      "예측 요약 :  bank to pay crore to bank accounts\n",
      "\n",
      "\n",
      "원문 : actor amitabh bachchan social media wrote sharing thoughts young crew pretty awesome quite company conversation like wish discuss wrote amitabh next seen upcoming film brahmastra ranbir kapoor alia bhatt \n",
      "실제 요약 : sharing thoughts with young crew is amitabh \n",
      "예측 요약 :  amitabh bachchan to star in upcoming film reports\n",
      "\n",
      "\n",
      "원문 : promotional video oscars released video references best picture announcement oscars wherein presenter warren mistakenly named la la land instead best picture oscars hosted jimmy kimmel held march next year \n",
      "실제 요약 : oscars promo references best film up from oscars \n",
      "예측 요약 :  song from oscars film festival\n",
      "\n",
      "\n",
      "원문 : constitution india adopted constituent assembly november celebrated constitution day however enforced january commemorate declaration swaraj indian national congress day proclaimed full independence british rule thereby rejecting status offered \n",
      "실제 요약 : why did constitution come into force months post adoption \n"
     ]
    },
    {
     "name": "stdout",
     "output_type": "stream",
     "text": [
      "예측 요약 :  lok sabha to hold new session of jan\n",
      "\n",
      "\n",
      "원문 : malayalam film sexy durga denied exemption screened jio festival due title cleared censor board audio cuts release durga see name feel really crazy representation typical mindset said director kumar \n",
      "실제 요약 : durga to release as durga with audio cuts \n",
      "예측 요약 :  shabana azmi shabana for the theatres\n",
      "\n",
      "\n",
      "원문 : police saturday arrested three persons gang five alleged criminals greater noida shootout one injured two managed flee police acted tip discovered later gang bulandshahr involved robbery noida month \n",
      "실제 요약 : robbers held after shootout with police in greater noida \n",
      "예측 요약 :  police arrest men in assam for robbing\n",
      "\n",
      "\n",
      "원문 : actress shabana azmi watching late actress sridevi daughter janhvi kapoor performance debut film dhadak took instagram wrote sridevi wish watch daughter janhvi debut would proud star born wrote caption old picture sridevi boney kapoor \n",
      "실제 요약 : sridevi wish you were here to watch janhvi debut shabana \n",
      "예측 요약 :  pic shows sonam on sets of her th birthday\n",
      "\n",
      "\n",
      "원문 : polish divers accidentally discovered sunk german military leading deaths british sailors world war two submarine german soldiers intercepted secret codes potential location discovered north sea divers looking another submarine lost sea \n",
      "실제 요약 : wwii submarine containing sailors remains found after yrs \n",
      "예측 요약 :  video of world war found in germany\n",
      "\n",
      "\n",
      "원문 : odisha police monday said four students class government school arrested attempt murder year old class student victim got fight one accused broke arms hit stones threw drain near school police added \n",
      "실제 요약 : class and students held for attempted murder of yr old \n",
      "예측 요약 :  school school teacher arrested for raping year old\n",
      "\n",
      "\n",
      "원문 : one day old baby boy went missing hospital karnataka early hours saturday checking cctv footage hospital police said suspected woman carrying large bag kidnapping baby accused estimated fifties seen talking several patients delivered babies \n",
      "실제 요약 : one day old baby goes missing from karnataka hospital \n",
      "예측 요약 :  baby dies after being hit by baby in odisha\n",
      "\n",
      "\n",
      "원문 : pakistan thursday asked india respect importance jinnah house mumbai bjp mla demanded demolished replaced cultural centre pakistan foreign office spokesperson reportedly said jinnah house property pakistan founding father handed pakistan \n",
      "실제 요약 : respect importance of jinnah house in mumbai pak to india \n",
      "예측 요약 :  india to give up to india to\n",
      "\n",
      "\n",
      "원문 : man madhya pradesh wrongly declared dead sent post mortem monday himanshu bharadwaj injured motorcycle accident declared brain dead later declared dead shifted mortuary discovered breathing shifted hospital stable condition \n",
      "실제 요약 : mp man wrongly declared dead sent for post \n",
      "예측 요약 :  man dies after being shot by in west bengal\n",
      "\n",
      "\n",
      "원문 : family miss iraq sarah forced leave country picture miss israel led death threats said women received backlash posted selfie miss universe contest iraq israel strained relations due differences status palestine \n",
      "실제 요약 : selfie with miss israel forces miss iraq to flee country \n",
      "예측 요약 :  us journo slammed for showing isis on isis\n",
      "\n",
      "\n",
      "원문 : two people booked monday allegedly posting objectionable image pm narendra modi whatsapp action taken bjp leader lodged complaint case registered ipc section relevant provisions act \n",
      "실제 요약 : booked for posting offensive image of pm modi on whatsapp \n",
      "예측 요약 :  fir against pm modi over remarks on pm modi\n",
      "\n",
      "\n",
      "원문 : municipal corporation gurugram start door door waste collection december wards officials said residents asked deposit dry wet waste different bags transported designated sites via rickshaws service extended wards coming months officials added \n",
      "실제 요약 : gurugram to start door to door waste collection from dec \n",
      "예측 요약 :  gurugram civic body to ban waste\n",
      "\n",
      "\n",
      "원문 : former defence minister george fernandes passed away tuesday delhi age fernandes also served railways minister former prime minister vp singh government diagnosed alzheimer disease last stint parliamentarian rajya sabha mp august july \n",
      "실제 요약 : former defence minister george passes away aged \n",
      "예측 요약 :  former pm modi passes away aged\n",
      "\n",
      "\n",
      "원문 : first ever video posted video sharing platform youtube featured co founder karim zoo talking elephants cool thing guys really really really long cool pretty much say says karim second video notably youtube founded february \n",
      "실제 요약 : youtube st video had co founder talking about elephants \n",
      "예측 요약 :  elon musk shares video of chinese show\n",
      "\n",
      "\n",
      "원문 : samuel little year old man us confessed murders spanning nearly four decades investigators suspect little already serving three life sentences murders three women committed murders least states authorities established little ties murders far \n",
      "실제 요약 : year old man confesses to murders in us \n",
      "예측 요약 :  us man who died in prison for years\n",
      "\n",
      "\n",
      "원문 : feet effigy hollywood producer harvey weinstein burnt event uk saturday people attended annual event guy failed plot blowing british parliament weinstein picked year public accused sexual harassment women \n",
      "실제 요약 : feet weinstein burnt at guy event \n",
      "예측 요약 :  weinstein apologises for shaming actress weinstein\n",
      "\n",
      "\n",
      "원문 : budget airline spicejet tuesday announced plans purchase aircraft worth billion canadian aerospace firm would single biggest order spicejet said release comes day spicejet signed deal us aircraft maker boeing max planes \n",
      "실제 요약 : spicejet to buy planes for billion from \n",
      "예측 요약 :  indigo to buy planes for crore\n",
      "\n",
      "\n",
      "원문 : amazon facial recognition tool called matched us politicians people arrested crime according test conducted american civil union nearly false matches people even though make congress said statement test cost \n",
      "실제 요약 : amazon face id tool matches us politicians to \n",
      "예측 요약 :  google to sue amazon over anti amazon memo\n",
      "\n",
      "\n",
      "원문 : sister kerala nun accused bishop franco mulakkal raping multiple times alleged relatives sending family death threats sought police protection since bishop behind bars really fear lives stated complaint also claimed bishop brothers filed fake complaints \n",
      "실제 요약 : getting death threats from bishop kin kerala nun sister \n",
      "예측 요약 :  kerala nun accused of raping nun in kerala\n",
      "\n",
      "\n",
      "원문 : talking looks forward wedding sonam kapoor said would rather wedding home anywhere else think much money spent would rather give away added earlier reported sonam get married geneva may businessman anand ahuja may mumbai \n",
      "실제 요약 : have wedding at home than anywhere else sonam \n",
      "예측 요약 :  sonam sonam to marry sonam wedding in bharat reports\n",
      "\n",
      "\n",
      "원문 : uttam indian american lawyer appointed acting administrator us drug enforcement administration holds law degree university california became first director office enforcement last served deputy counsel deputy assistant president donald trump \n",
      "실제 요약 : indian american appointed head of us drug agency \n",
      "예측 요약 :  uk to host its own content\n",
      "\n",
      "\n",
      "원문 : american technology company ibm issued warning accidentally shipped usb drives infected malware users ibm said tool drives may contain malware copies user computer company advised users physically destroy drive prevent \n",
      "실제 요약 : ibm accidentally sends malware infected drives to users \n",
      "예측 요약 :  volkswagen to shut down after users\n",
      "\n",
      "\n",
      "원문 : following demise veteran actor vinod khanna mahindra group anand mahindra post twitter said roles actors rishi kapoor finance minister arun jaitley singer asha also tweeted death khanna reportedly suffering cancer passed away thursday mumbai age \n",
      "실제 요약 : vinod khanna was in all roles tweets anand mahindra \n",
      "예측 요약 :  aishwarya shares pics of rajinikanth rai\n",
      "\n",
      "\n",
      "원문 : fox interrupted play domestic match lord cricket ground thursday fox made appearance across th innings quickly chased field went chase target winning match six wickets \n",
      "실제 요약 : fox invades pitch during match at lord \n",
      "예측 요약 :  coach kumar to play in match\n",
      "\n",
      "\n",
      "원문 : dlf group cfo saurabh chawla said part new business model major offer apartments sale get certificate completing project new model help remove uncertainty regarding costs delivery said customers taking risk added \n",
      "실제 요약 : to sell only completed flats to avoid delivery \n",
      "예측 요약 :  trader to acquire fashion week\n",
      "\n",
      "\n",
      "원문 : congress president rahul gandhi said become prime minister congress single largest party elections union minister prakash javadekar said ban smart tweet big talk politics added congress learn lessons bjp performance lok sabha elections said \n",
      "실제 요약 : no ban on javadekar on rahul becoming pm \n"
     ]
    },
    {
     "name": "stdout",
     "output_type": "stream",
     "text": [
      "예측 요약 :  rahul gandhi is the of bjp karnataka pm modi\n",
      "\n",
      "\n"
     ]
    }
   ],
   "source": [
    "# 테스트 데이터 50개 샘플에 대한 실제 요약과 예측 요약 비교\n",
    "\n",
    "for i in range(50, 100):\n",
    "    print(\"원문 :\", seq2text(encoder_input_test[i]))\n",
    "    print(\"실제 요약 :\", seq2summary(decoder_input_test[i]))\n",
    "    print(\"예측 요약 :\", decode_sequence(encoder_input_test[i].reshape(1, text_max_len)))\n",
    "    print(\"\\n\")"
   ]
  },
  {
   "cell_type": "markdown",
   "id": "64a9e82c",
   "metadata": {},
   "source": [
    "## Step 5. Summa을 이용해서 추출적 요약해보기\n",
    "\n",
    "추상적 요약은 추출적 요약과는 달리 문장의 표현력을 다양하게 가져갈 수 있지만, 추출적 요약에 비해서 난이도가 높아요. 반대로 말하면 추출적 요약은 추상적 요약에 비해 난이도가 낮고 기존 문장에서 문장을 꺼내오는 것이므로 잘못된 요약이 나올 가능성이 낮아요.\n",
    "\n",
    "Summa의 summarize를 사용하여 추출적 요약을 해보세요."
   ]
  },
  {
   "cell_type": "markdown",
   "id": "71251e5e",
   "metadata": {},
   "source": [
    "1) 데이터 다운로드"
   ]
  },
  {
   "cell_type": "code",
   "execution_count": 42,
   "id": "d47674b9",
   "metadata": {},
   "outputs": [],
   "source": [
    "import requests\n",
    "from summa.summarizer import summarize"
   ]
  },
  {
   "cell_type": "code",
   "execution_count": 43,
   "id": "f5c16f4a",
   "metadata": {},
   "outputs": [],
   "source": [
    "urllib.request.urlretrieve(\"https://raw.githubusercontent.com/sunnysai12345/News_Summary/master/news_summary_more.csv\", filename=\"news_summary_more.csv\")\n",
    "data = pd.read_csv('news_summary_more.csv', encoding='iso-8859-1')"
   ]
  },
  {
   "cell_type": "code",
   "execution_count": 44,
   "id": "a32a449c",
   "metadata": {},
   "outputs": [
    {
     "data": {
      "text/html": [
       "<div>\n",
       "<style scoped>\n",
       "    .dataframe tbody tr th:only-of-type {\n",
       "        vertical-align: middle;\n",
       "    }\n",
       "\n",
       "    .dataframe tbody tr th {\n",
       "        vertical-align: top;\n",
       "    }\n",
       "\n",
       "    .dataframe thead th {\n",
       "        text-align: right;\n",
       "    }\n",
       "</style>\n",
       "<table border=\"1\" class=\"dataframe\">\n",
       "  <thead>\n",
       "    <tr style=\"text-align: right;\">\n",
       "      <th></th>\n",
       "      <th>headlines</th>\n",
       "      <th>text</th>\n",
       "    </tr>\n",
       "  </thead>\n",
       "  <tbody>\n",
       "    <tr>\n",
       "      <th>67593</th>\n",
       "      <td>Facebook tests facial recognition for unlockin...</td>\n",
       "      <td>Social media giant Facebook is reportedly test...</td>\n",
       "    </tr>\n",
       "    <tr>\n",
       "      <th>54536</th>\n",
       "      <td>Which celebrities got married in 2017?</td>\n",
       "      <td>The year 2017 saw various celebrities tying th...</td>\n",
       "    </tr>\n",
       "    <tr>\n",
       "      <th>40877</th>\n",
       "      <td>Man included in citizen list after being decla...</td>\n",
       "      <td>A man who was declared a foreigner by a court ...</td>\n",
       "    </tr>\n",
       "    <tr>\n",
       "      <th>16481</th>\n",
       "      <td>Pakistan PM Imran Khan's true face has been re...</td>\n",
       "      <td>While announcing the cancellation of India-Pak...</td>\n",
       "    </tr>\n",
       "    <tr>\n",
       "      <th>9622</th>\n",
       "      <td>My biggest support system: Ayushmann to Aparsh...</td>\n",
       "      <td>Wishing his brother Aparshakti Khurana on his ...</td>\n",
       "    </tr>\n",
       "    <tr>\n",
       "      <th>45705</th>\n",
       "      <td>Child rights body files case against 'Kuthiyot...</td>\n",
       "      <td>The Kerala State Commission for Protection of ...</td>\n",
       "    </tr>\n",
       "    <tr>\n",
       "      <th>75758</th>\n",
       "      <td>14 more 'Parakram' vans added to Delhi Police ...</td>\n",
       "      <td>Delhi police on Friday added 14 new 'Parakram'...</td>\n",
       "    </tr>\n",
       "    <tr>\n",
       "      <th>77219</th>\n",
       "      <td>Maha Housing Minister accused of corruption by...</td>\n",
       "      <td>The Congress and Nationalist Congress Party (N...</td>\n",
       "    </tr>\n",
       "    <tr>\n",
       "      <th>92458</th>\n",
       "      <td>Walmart CEO's pay increased by Ã¢ÂÂ¹17 crore ...</td>\n",
       "      <td>Walmart's CEO Doug McMillon has received a 13%...</td>\n",
       "    </tr>\n",
       "    <tr>\n",
       "      <th>26521</th>\n",
       "      <td>External Affairs Min listening to harsh langua...</td>\n",
       "      <td>Responding to a Twitter user, External Affairs...</td>\n",
       "    </tr>\n",
       "  </tbody>\n",
       "</table>\n",
       "</div>"
      ],
      "text/plain": [
       "                                               headlines  \\\n",
       "67593  Facebook tests facial recognition for unlockin...   \n",
       "54536             Which celebrities got married in 2017?   \n",
       "40877  Man included in citizen list after being decla...   \n",
       "16481  Pakistan PM Imran Khan's true face has been re...   \n",
       "9622   My biggest support system: Ayushmann to Aparsh...   \n",
       "45705  Child rights body files case against 'Kuthiyot...   \n",
       "75758  14 more 'Parakram' vans added to Delhi Police ...   \n",
       "77219  Maha Housing Minister accused of corruption by...   \n",
       "92458  Walmart CEO's pay increased by Ã¢ÂÂ¹17 crore ...   \n",
       "26521  External Affairs Min listening to harsh langua...   \n",
       "\n",
       "                                                    text  \n",
       "67593  Social media giant Facebook is reportedly test...  \n",
       "54536  The year 2017 saw various celebrities tying th...  \n",
       "40877  A man who was declared a foreigner by a court ...  \n",
       "16481  While announcing the cancellation of India-Pak...  \n",
       "9622   Wishing his brother Aparshakti Khurana on his ...  \n",
       "45705  The Kerala State Commission for Protection of ...  \n",
       "75758  Delhi police on Friday added 14 new 'Parakram'...  \n",
       "77219  The Congress and Nationalist Congress Party (N...  \n",
       "92458  Walmart's CEO Doug McMillon has received a 13%...  \n",
       "26521  Responding to a Twitter user, External Affairs...  "
      ]
     },
     "execution_count": 44,
     "metadata": {},
     "output_type": "execute_result"
    }
   ],
   "source": [
    "data.sample(10)"
   ]
  },
  {
   "cell_type": "code",
   "execution_count": 45,
   "id": "50a4be44",
   "metadata": {},
   "outputs": [
    {
     "name": "stdout",
     "output_type": "stream",
     "text": [
      "원문 : Saurav Kant, an alumnus of upGrad and IIIT-B's PG Program in Machine learning and Artificial Intelligence, was a Sr Systems Engineer at Infosys with almost 5 years of work experience. The program and upGrad's 360-degree career support helped him transition to a Data Scientist at Tech Mahindra with 90% salary hike. upGrad's Online Power Learning has powered 3 lakh+ careers.\n",
      "실제 요약 : upGrad learner switches to career in ML & Al with 90% salary hike\n",
      "추출적 요약 : upGrad's Online Power Learning has powered 3 lakh+ careers.\n",
      "\n",
      "\n",
      "원문 : Kunal Shah's credit card bill payment platform, CRED, gave users a chance to win free food from Swiggy for one year. Pranav Kaushik, a Delhi techie, bagged this reward after spending 2000 CRED coins. Users get one CRED coin per rupee of bill paid, which can be used to avail rewards from brands like Ixigo, BookMyShow, UberEats, Cult.Fit and more.\n",
      "실제 요약 : Delhi techie wins free food from Swiggy for one year on CRED\n",
      "추출적 요약 : Users get one CRED coin per rupee of bill paid, which can be used to avail rewards from brands like Ixigo, BookMyShow, UberEats, Cult.Fit and more.\n",
      "\n",
      "\n",
      "원문 : New Zealand defeated India by 8 wickets in the fourth ODI at Hamilton on Thursday to win their first match of the five-match ODI series. India lost an international match under Rohit Sharma's captaincy after 12 consecutive victories dating back to March 2018. The match witnessed India getting all out for 92, their seventh lowest total in ODI cricket history.\n",
      "실제 요약 : New Zealand end Rohit Sharma-led India's 12-match winning streak\n",
      "추출적 요약 : The match witnessed India getting all out for 92, their seventh lowest total in ODI cricket history.\n",
      "\n",
      "\n",
      "원문 : With Aegon Life iTerm Insurance plan, customers can enjoy tax benefits on your premiums paid and save up to Ã¢ÂÂ¹46,800^ on taxes. The plan provides life cover up to the age of 100 years. Also, customers have options to insure against Critical Illnesses, Disability and Accidental Death Benefit Rider with a life cover up to the age of 80 years.\n",
      "실제 요약 : Aegon life iTerm insurance plan helps customers save tax\n",
      "추출적 요약 : Also, customers have options to insure against Critical Illnesses, Disability and Accidental Death Benefit Rider with a life cover up to the age of 80 years.\n",
      "\n",
      "\n",
      "원문 : Speaking about the sexual harassment allegations against Rajkumar Hirani, Sonam Kapoor said, \"I've known Hirani for many years...What if it's not true, the [#MeToo] movement will get derailed.\" \"In the #MeToo movement, I always believe a woman. But in this case, we need to reserve our judgment,\" she added. Hirani has been accused by an assistant who worked in 'Sanju'.\n",
      "실제 요약 : Have known Hirani for yrs, what if MeToo claims are not true: Sonam\n",
      "추출적 요약 : Speaking about the sexual harassment allegations against Rajkumar Hirani, Sonam Kapoor said, \"I've known Hirani for many years...What if it's not true, the [#MeToo] movement will get derailed.\" \"In the #MeToo movement, I always believe a woman.\n",
      "\n",
      "\n"
     ]
    }
   ],
   "source": [
    "# 원문의 0.50%만을 출력\n",
    "\n",
    "for idx, (head, text) in enumerate(zip(data['headlines'], data['text'])):\n",
    "    if idx == 5:\n",
    "        break\n",
    "    print(\"원문 :\", text)\n",
    "    print(\"실제 요약 :\", head)\n",
    "    print(\"추출적 요약 :\", summarize(text, ratio=0.50))\n",
    "    print(\"\\n\")"
   ]
  },
  {
   "cell_type": "code",
   "execution_count": 46,
   "id": "76458dca",
   "metadata": {},
   "outputs": [
    {
     "name": "stdout",
     "output_type": "stream",
     "text": [
      "원문 : Saurav Kant, an alumnus of upGrad and IIIT-B's PG Program in Machine learning and Artificial Intelligence, was a Sr Systems Engineer at Infosys with almost 5 years of work experience. The program and upGrad's 360-degree career support helped him transition to a Data Scientist at Tech Mahindra with 90% salary hike. upGrad's Online Power Learning has powered 3 lakh+ careers.\n",
      "실제 요약 : upGrad learner switches to career in ML & Al with 90% salary hike\n",
      "추출적 요약 : upGrad's Online Power Learning has powered 3 lakh+ careers.\n",
      "\n",
      "\n",
      "원문 : Kunal Shah's credit card bill payment platform, CRED, gave users a chance to win free food from Swiggy for one year. Pranav Kaushik, a Delhi techie, bagged this reward after spending 2000 CRED coins. Users get one CRED coin per rupee of bill paid, which can be used to avail rewards from brands like Ixigo, BookMyShow, UberEats, Cult.Fit and more.\n",
      "실제 요약 : Delhi techie wins free food from Swiggy for one year on CRED\n",
      "추출적 요약 : \n",
      "\n",
      "\n",
      "원문 : New Zealand defeated India by 8 wickets in the fourth ODI at Hamilton on Thursday to win their first match of the five-match ODI series. India lost an international match under Rohit Sharma's captaincy after 12 consecutive victories dating back to March 2018. The match witnessed India getting all out for 92, their seventh lowest total in ODI cricket history.\n",
      "실제 요약 : New Zealand end Rohit Sharma-led India's 12-match winning streak\n",
      "추출적 요약 : The match witnessed India getting all out for 92, their seventh lowest total in ODI cricket history.\n",
      "\n",
      "\n",
      "원문 : With Aegon Life iTerm Insurance plan, customers can enjoy tax benefits on your premiums paid and save up to Ã¢ÂÂ¹46,800^ on taxes. The plan provides life cover up to the age of 100 years. Also, customers have options to insure against Critical Illnesses, Disability and Accidental Death Benefit Rider with a life cover up to the age of 80 years.\n",
      "실제 요약 : Aegon life iTerm insurance plan helps customers save tax\n",
      "추출적 요약 : \n",
      "\n",
      "\n",
      "원문 : Speaking about the sexual harassment allegations against Rajkumar Hirani, Sonam Kapoor said, \"I've known Hirani for many years...What if it's not true, the [#MeToo] movement will get derailed.\" \"In the #MeToo movement, I always believe a woman. But in this case, we need to reserve our judgment,\" she added. Hirani has been accused by an assistant who worked in 'Sanju'.\n",
      "실제 요약 : Have known Hirani for yrs, what if MeToo claims are not true: Sonam\n",
      "추출적 요약 : \n",
      "\n",
      "\n",
      "Summary:\n",
      "Pakistani singer Rahat Fateh Ali Khan has denied receiving any notice from the Enforcement Directorate over allegedly smuggling foreign currency out of India.\n",
      "\"It would have been better if the authorities would have served the notice first if any and then publicised this,\" reads a press release issued on behalf of Rahat.\n"
     ]
    }
   ],
   "source": [
    "# 단어의 수로 요약문의 크기를 조절할 수도 있다. \n",
    "# 단어를 10개만 선택하도록 설정\n",
    "\n",
    "for idx, (head, text) in enumerate(zip(data['headlines'], data['text'])):\n",
    "    if idx == 5:\n",
    "        break\n",
    "    print(\"원문 :\", text)\n",
    "    print(\"실제 요약 :\", head)\n",
    "    print(\"추출적 요약 :\", summarize(text, words=10))\n",
    "    print(\"\\n\")\n",
    "\n",
    "print('Summary:')\n",
    "print(summarize(text, words=50))"
   ]
  },
  {
   "cell_type": "markdown",
   "id": "f00bac43",
   "metadata": {},
   "source": []
  }
 ],
 "metadata": {
  "kernelspec": {
   "display_name": "Python 3 (ipykernel)",
   "language": "python",
   "name": "python3"
  },
  "language_info": {
   "codemirror_mode": {
    "name": "ipython",
    "version": 3
   },
   "file_extension": ".py",
   "mimetype": "text/x-python",
   "name": "python",
   "nbconvert_exporter": "python",
   "pygments_lexer": "ipython3",
   "version": "3.9.7"
  }
 },
 "nbformat": 4,
 "nbformat_minor": 5
}
